{
 "cells": [
  {
   "cell_type": "code",
   "execution_count": 1,
   "id": "curious-toilet",
   "metadata": {},
   "outputs": [],
   "source": [
    "from pyspark.sql import SparkSession\n",
    "from pyspark.conf import SparkConf\n",
    "from pyspark.sql.types import DateType, StringType, FloatType, IntegerType\n",
    "from pyspark.sql.window import Window\n",
    "import pyspark.sql.functions as F"
   ]
  },
  {
   "cell_type": "code",
   "execution_count": 2,
   "id": "constant-implementation",
   "metadata": {},
   "outputs": [],
   "source": [
    "spark = SparkSession.builder \\\n",
    "    .master(\"local[*]\") \\\n",
    "    .appName(\"PySpark City Payroll Analysis\") \\\n",
    "    .config(\"spark.driver.memory\", \"2g\") \\\n",
    "    .config(\"spark.executor.memory\", \"2g\") \\\n",
    "    .getOrCreate()"
   ]
  },
  {
   "cell_type": "code",
   "execution_count": 3,
   "id": "unknown-baltimore",
   "metadata": {},
   "outputs": [],
   "source": [
    "nycdf = spark.read.option(\"header\",True).csv(\"City_Employee_Payroll_New_York_City.csv\")\n",
    "ladf = spark.read.option(\"header\",True).csv(\"City_Employee_Payroll_Los_Angeles.csv\")"
   ]
  },
  {
   "cell_type": "code",
   "execution_count": 4,
   "id": "reverse-argument",
   "metadata": {},
   "outputs": [
    {
     "name": "stdout",
     "output_type": "stream",
     "text": [
      "root\n",
      " |-- Fiscal Year: string (nullable = true)\n",
      " |-- Payroll Number: string (nullable = true)\n",
      " |-- Agency Name: string (nullable = true)\n",
      " |-- Last Name: string (nullable = true)\n",
      " |-- First Name: string (nullable = true)\n",
      " |-- Mid Init: string (nullable = true)\n",
      " |-- Agency Start Date: string (nullable = true)\n",
      " |-- Work Location Borough: string (nullable = true)\n",
      " |-- Title Description: string (nullable = true)\n",
      " |-- Leave Status as of June 30: string (nullable = true)\n",
      " |-- Base Salary: string (nullable = true)\n",
      " |-- Pay Basis: string (nullable = true)\n",
      " |-- Regular Hours: string (nullable = true)\n",
      " |-- Regular Gross Paid: string (nullable = true)\n",
      " |-- OT Hours: string (nullable = true)\n",
      " |-- Total OT Paid: string (nullable = true)\n",
      " |-- Total Other Pay: string (nullable = true)\n",
      "\n"
     ]
    }
   ],
   "source": [
    "nycdf.printSchema()"
   ]
  },
  {
   "cell_type": "code",
   "execution_count": 5,
   "id": "rural-promise",
   "metadata": {},
   "outputs": [
    {
     "name": "stdout",
     "output_type": "stream",
     "text": [
      "root\n",
      " |-- RECORD_NBR: string (nullable = true)\n",
      " |-- PAY_YEAR: string (nullable = true)\n",
      " |-- DEPARTMENT_NO: string (nullable = true)\n",
      " |-- DEPARTMENT_TITLE: string (nullable = true)\n",
      " |-- JOB_CLASS_PGRADE: string (nullable = true)\n",
      " |-- JOB_TITLE: string (nullable = true)\n",
      " |-- EMPLOYMENT_TYPE: string (nullable = true)\n",
      " |-- JOB_STATUS: string (nullable = true)\n",
      " |-- MOU: string (nullable = true)\n",
      " |-- MOU_TITLE: string (nullable = true)\n",
      " |-- REGULAR_PAY: string (nullable = true)\n",
      " |-- OVERTIME_PAY: string (nullable = true)\n",
      " |-- ALL_OTHER_PAY: string (nullable = true)\n",
      " |-- TOTAL_PAY: string (nullable = true)\n",
      " |-- CITY_RETIREMENT_CONTRIBUTIONS: string (nullable = true)\n",
      " |-- BENEFIT_PAY: string (nullable = true)\n",
      " |-- GENDER: string (nullable = true)\n",
      " |-- ETHNICITY: string (nullable = true)\n",
      "\n"
     ]
    }
   ],
   "source": [
    "ladf.printSchema()"
   ]
  },
  {
   "cell_type": "code",
   "execution_count": 6,
   "id": "tribal-champion",
   "metadata": {},
   "outputs": [
    {
     "name": "stdout",
     "output_type": "stream",
     "text": [
      "+-----------+--------------+-----------------+-----------+----------+--------+-----------------+---------------------+--------------------+--------------------------+-----------+---------+-------------+------------------+--------+-------------+---------------+\n",
      "|Fiscal Year|Payroll Number|      Agency Name|  Last Name|First Name|Mid Init|Agency Start Date|Work Location Borough|   Title Description|Leave Status as of June 30|Base Salary|Pay Basis|Regular Hours|Regular Gross Paid|OT Hours|Total OT Paid|Total Other Pay|\n",
      "+-----------+--------------+-----------------+-----------+----------+--------+-----------------+---------------------+--------------------+--------------------------+-----------+---------+-------------+------------------+--------+-------------+---------------+\n",
      "|       2020|            56|POLICE DEPARTMENT|     WALKER|     JAMAL|       H|       01/10/2005|             BROOKLYN|     P.O. DA DET GR3|                    ACTIVE|   96502.00|per Annum|         2080|          95892.38|  668.57|     36078.88|       16789.12|\n",
      "|       2020|            56|POLICE DEPARTMENT|     MOONEY|   PATRICK|       L|       07/22/2002|            MANHATTAN|     P.O. DA DET GR3|                    CEASED|   96502.00|per Annum|       1954.3|          90144.27|   334.5|     24379.71|       19967.38|\n",
      "|       2020|            56|POLICE DEPARTMENT|        LAU|   KAMYUEN|    null|       09/29/2000|               QUEENS|      POLICE OFFICER|                    ACTIVE|   85292.00|per Annum|         2080|          84831.14|     545|     31658.74|       17256.66|\n",
      "|       2020|            56|POLICE DEPARTMENT|       HOOP|     GAVIN|       S|       07/10/2006|                BRONX|           SERGEANT-|                    ACTIVE|  109360.00|per Annum|         2080|         108768.97|  132.83|      6715.62|       17245.51|\n",
      "|       2020|            56|POLICE DEPARTMENT|     AIELLO|   MATTHEW|       A|       01/09/2006|             RICHMOND|      POLICE OFFICER|                    ACTIVE|   85292.00|per Annum|         2080|          84831.14|  167.17|      8047.68|       14449.92|\n",
      "|       2020|            56|POLICE DEPARTMENT|  FERNANDEZ|     OSCAR|       R|       01/04/2017|                BRONX|      POLICE OFFICER|                    ACTIVE|   54394.00|per Annum|         2080|          53927.40|  264.22|      7213.76|        9461.92|\n",
      "|       2020|            56|POLICE DEPARTMENT|   MARTELLI|     DAVID|       M|       07/02/2018|               QUEENS|      POLICE OFFICER|                    ACTIVE|   45000.00|per Annum|         2080|          43438.28|  225.17|      4309.56|        6076.57|\n",
      "|       2020|            56|POLICE DEPARTMENT|SCANTLEBURY|      TONI|       E|       10/29/2018|             BROOKLYN|POLICE COMMUNICAT...|                    ACTIVE|   40636.00|per Annum|         1820|          39460.48|  245.75|      6848.38|        3721.06|\n",
      "|       2020|            56|POLICE DEPARTMENT|      NOLAN|   TIMOTHY|       J|       06/01/2009|            MANHATTAN|      PARALEGAL AIDE|                    ACTIVE|   46713.00|per Annum|         1820|          43827.30|       0|         0.00|        1750.78|\n",
      "|       2020|            56|POLICE DEPARTMENT|  MCCLELLAN|    JIASIA|       J|       12/16/2019|             BROOKLYN|TRAFFIC ENFORCEME...|                    ACTIVE|   41493.00|per Annum|          960|          18154.81|       3|        89.42|         178.11|\n",
      "+-----------+--------------+-----------------+-----------+----------+--------+-----------------+---------------------+--------------------+--------------------------+-----------+---------+-------------+------------------+--------+-------------+---------------+\n",
      "only showing top 10 rows\n",
      "\n"
     ]
    }
   ],
   "source": [
    "nycdf.sample(False, 0.0002, 999).show(10)"
   ]
  },
  {
   "cell_type": "code",
   "execution_count": 7,
   "id": "wooden-electron",
   "metadata": {},
   "outputs": [
    {
     "name": "stdout",
     "output_type": "stream",
     "text": [
      "There are 14 unique records that are duplicated.\n",
      "+-----------+--------------+--------------------+---------+----------+--------+-----------------+---------------------+--------------------+--------------------------+-----------+---------+-------------+------------------+--------+-------------+---------------+-----+\n",
      "|Fiscal Year|Payroll Number|         Agency Name|Last Name|First Name|Mid Init|Agency Start Date|Work Location Borough|   Title Description|Leave Status as of June 30|Base Salary|Pay Basis|Regular Hours|Regular Gross Paid|OT Hours|Total OT Paid|Total Other Pay|count|\n",
      "+-----------+--------------+--------------------+---------+----------+--------+-----------------+---------------------+--------------------+--------------------------+-----------+---------+-------------+------------------+--------+-------------+---------------+-----+\n",
      "|       2019|           903|DISTRICT ATTORNEY...|     null|      null|    null|       01/30/2019|             BROOKLYN|RACKETS INVESTIGA...|                    ACTIVE|   57824.00|per Annum|          824|          24544.67|      18|       747.72|         664.64|    4|\n",
      "|       2016|          null|DISTRICT ATTORNEY...|     null|      null|    null|       04/04/2016|               QUEENS|SENIOR RACKETS IN...|                    ACTIVE|   54047.00|per Annum|       508.57|          11336.85|       0|         0.00|           0.00|    3|\n",
      "|       2015|          null|BOARD OF ELECTION...| WILLIAMS|  JEANETTE|    null|       01/01/2010|            MANHATTAN|     ELECTION WORKER|                    ACTIVE|       1.00| per Hour|            0|            581.00|       0|         0.00|           0.00|    2|\n",
      "|       2015|          null|BOARD OF ELECTION...|RODRIGUEZ|      JOSE|       A|       01/01/2014|            MANHATTAN|     ELECTION WORKER|                    ACTIVE|       1.00| per Hour|            0|            575.00|       0|         0.00|           0.00|    2|\n",
      "|       2016|          null|BOARD OF ELECTION...|    JONES|   DELORES|    null|       01/01/2010|            MANHATTAN|     ELECTION WORKER|                    ACTIVE|       1.00| per Hour|            0|            780.00|       0|         0.00|           0.00|    2|\n",
      "|       2017|          null|DISTRICT ATTORNEY...|     null|      null|    null|       06/19/2017|               QUEENS|RACKETS INVESTIGATOR|                    ACTIVE|   45538.00|per Annum|           40|            873.33|       0|         0.00|           0.00|    2|\n",
      "|       2018|           906|DISTRICT ATTORNEY...|     null|      null|    null|       06/11/2018|            MANHATTAN|SENIOR RACKETS IN...|                    ACTIVE|   60000.00|per Annum|           80|           2301.37|       0|         0.00|           0.00|    2|\n",
      "|       2016|          null|DEPARTMENT OF SAN...| WILLIAMS|     DAVID|       J|       01/25/2016|            MANHATTAN|  CITY SEASONAL AIDE|                    ACTIVE|      13.50| per Hour|           16|            216.00|       0|         0.00|           0.00|    2|\n",
      "|       2016|          null|BOARD OF ELECTION...|RODRIGUEZ|     ERIKA|    null|       01/01/2010|            MANHATTAN|     ELECTION WORKER|                    ACTIVE|       1.00| per Hour|            0|            575.00|       0|         0.00|           0.00|    2|\n",
      "|       2016|          null|BOARD OF ELECTION...|    SMITH|  MICHELLE|    null|       01/01/2010|            MANHATTAN|     ELECTION WORKER|                    ACTIVE|       1.00| per Hour|            0|            575.00|       0|         0.00|           0.00|    2|\n",
      "|       2015|          null|BOARD OF ELECTION...|    BROWN|  BEATRICE|    null|       01/01/2010|            MANHATTAN|     ELECTION WORKER|                    ACTIVE|       1.00| per Hour|            0|            575.00|       0|         0.00|           0.00|    2|\n",
      "|       2017|          null|DISTRICT ATTORNEY...|     null|      null|    null|       10/20/2014|               QUEENS|SENIOR RACKETS IN...|                    ACTIVE|   59942.00|per Annum|      2051.43|          68776.45|       0|         0.00|           0.00|    2|\n",
      "|       2016|          null|BOARD OF ELECTION...|    BROWN|  BEATRICE|    null|       01/01/2010|            MANHATTAN|     ELECTION WORKER|                    ACTIVE|       1.00| per Hour|            0|            575.00|       0|         0.00|           0.00|    2|\n",
      "|       2016|          null|BOARD OF ELECTION...|ARMSTRONG|    SHARON|    null|       01/01/2015|            MANHATTAN|     ELECTION WORKER|                    ACTIVE|       1.00| per Hour|            0|            575.00|       0|         0.00|           0.00|    2|\n",
      "+-----------+--------------+--------------------+---------+----------+--------+-----------------+---------------------+--------------------+--------------------------+-----------+---------+-------------+------------------+--------+-------------+---------------+-----+\n",
      "\n"
     ]
    }
   ],
   "source": [
    "nycduplicated = nycdf.groupby(nycdf.columns).count().where('count > 1').sort('count', ascending=False)\n",
    "print(f'There are {nycduplicated.count()} unique records that are duplicated.')\n",
    "nycduplicated.show()"
   ]
  },
  {
   "cell_type": "code",
   "execution_count": 8,
   "id": "timely-thompson",
   "metadata": {},
   "outputs": [
    {
     "name": "stdout",
     "output_type": "stream",
     "text": [
      "root\n",
      " |-- Fiscal Year: string (nullable = true)\n",
      " |-- Payroll Number: string (nullable = true)\n",
      " |-- Agency Name: string (nullable = true)\n",
      " |-- Last Name: string (nullable = true)\n",
      " |-- First Name: string (nullable = true)\n",
      " |-- Mid Init: string (nullable = true)\n",
      " |-- Agency Start Date: date (nullable = true)\n",
      " |-- Work Location Borough: string (nullable = true)\n",
      " |-- Title Description: string (nullable = true)\n",
      " |-- Leave Status as of June 30: string (nullable = true)\n",
      " |-- Base Salary: float (nullable = true)\n",
      " |-- Pay Basis: string (nullable = true)\n",
      " |-- Regular Hours: integer (nullable = true)\n",
      " |-- Regular Gross Paid: float (nullable = true)\n",
      " |-- OT Hours: float (nullable = true)\n",
      " |-- Total OT Paid: float (nullable = true)\n",
      " |-- Total Other Pay: float (nullable = true)\n",
      " |-- Row Index: long (nullable = false)\n",
      "\n"
     ]
    }
   ],
   "source": [
    "nycdf = nycdf.distinct()\n",
    "nycdf = nycdf.withColumn('Agency Start Date', F.col('Agency Start Date').cast(DateType())) \\\n",
    "        .withColumn('Base Salary', F.col('Base Salary').cast(FloatType())) \\\n",
    "        .withColumn('Regular Hours', F.col('Regular Hours').cast(IntegerType())) \\\n",
    "        .withColumn('Regular Gross Paid', F.col('Regular Gross Paid').cast(FloatType())) \\\n",
    "        .withColumn('OT Hours', F.col('OT Hours').cast(FloatType())) \\\n",
    "        .withColumn('Total OT Paid', F.col('Total OT Paid').cast(FloatType())) \\\n",
    "        .withColumn('Total Other Pay', F.col('Total Other Pay').cast(FloatType())) \\\n",
    "        .withColumn(\"Row Index\", F.monotonically_increasing_id())\n",
    "\n",
    "nycdf.printSchema()"
   ]
  },
  {
   "cell_type": "code",
   "execution_count": 9,
   "id": "charged-blank",
   "metadata": {},
   "outputs": [
    {
     "name": "stdout",
     "output_type": "stream",
     "text": [
      "+------------+--------+-------------+----------------+----------------+--------------------+---------------+----------+---+--------------------+-----------+------------+-------------+---------+-----------------------------+-----------+------+---------+\n",
      "|  RECORD_NBR|PAY_YEAR|DEPARTMENT_NO|DEPARTMENT_TITLE|JOB_CLASS_PGRADE|           JOB_TITLE|EMPLOYMENT_TYPE|JOB_STATUS|MOU|           MOU_TITLE|REGULAR_PAY|OVERTIME_PAY|ALL_OTHER_PAY|TOTAL_PAY|CITY_RETIREMENT_CONTRIBUTIONS|BENEFIT_PAY|GENDER|ETHNICITY|\n",
      "+------------+--------+-------------+----------------+----------------+--------------------+---------------+----------+---+--------------------+-----------+------------+-------------+---------+-----------------------------+-----------+------+---------+\n",
      "|303532353731|    2016|           98| WATER AND POWER|          1539-5|            MGT ASST|      FULL_TIME|    ACTIVE|  4|ADMINISTRATIVE RE...|   79284.64|     3478.23|      1452.68| 84215.55|                      5233.00|   22763.98|FEMALE|    BLACK|\n",
      "|343538313531|    2016|           98| WATER AND POWER|          3836-5|   SR ELTL MCHC SUPV|      FULL_TIME|    ACTIVE|  B|SUPERVISORY BLUE ...|  136162.68|    82689.90|     19010.33|237862.91|                      8987.00|   19072.62|  MALE|CAUCASIAN|\n",
      "|  3439303036|    2016|           98| WATER AND POWER|          1924-5|          SECY LEGAL|      FULL_TIME|    ACTIVE|  7|       CLERICAL UNIT|   78935.98|        0.00|      3032.80| 81968.78|                      5210.00|   22763.98|  MALE| HISPANIC|\n",
      "|  3533303532|    2016|           98| WATER AND POWER|           965-1|        CONSTR PLMBR|      FULL_TIME|NOT_ACTIVE|  Z|          DAILY RATE|   83145.76|      128.79|     41026.63|124301.18|                         0.00|       0.00|  MALE| HISPANIC|\n",
      "|  3130383831|    2017|           38|            FIRE|          2112-3|     FIREFIGHTER III|      FULL_TIME|    ACTIVE| 23|FIREFIGHTERS AND ...|  104320.51|    84991.43|      4842.37|194154.31|                     48874.16|   16848.00|  MALE|    BLACK|\n",
      "|323534353833|    2017|           70|          POLICE|          3711-5|  EQUIPMENT MECHANIC|      FULL_TIME|NOT_ACTIVE| 14|   SERVICE AND CRAFT|   53990.40|     1443.56|       950.00| 56383.96|                     16013.55|   10392.54|  MALE| HISPANIC|\n",
      "|  3438333231|    2019|           66|       PERSONNEL|          9167-1|SENIOR PERSONNEL ...|      FULL_TIME|    ACTIVE| 00|     NON-REPRESENTED|  111777.94|        0.00|      2264.61|114042.55|                     33153.34|   16548.18|  MALE|CAUCASIAN|\n",
      "|343533363833|    2017|           14|      CITY CLERK|          0729-0|ELECTION ASSISTAN...|      PART_TIME|NOT_ACTIVE| 00|     NON-REPRESENTED|     229.50|        0.00|         0.00|   229.50|                         0.00|       0.00|  MALE|    OTHER|\n",
      "|343835303233|    2017|           94|  TRANSPORTATION|          7280-2|TRANSPORTATION EN...|      FULL_TIME|    ACTIVE| 08|PROFESSIONAL ENGI...|  105040.00|    14013.78|       207.14|119260.92|                     31154.86|   17550.00|  MALE| HISPANIC|\n",
      "|  3630303137|    2017|           70|          POLICE|          2214-3|  POLICE OFFICER III|      FULL_TIME|NOT_ACTIVE| 24|POLICE OFFICERS, ...|  109705.12|     1330.55|      1376.20|112411.87|                     51396.85|   15515.38|  MALE| HISPANIC|\n",
      "+------------+--------+-------------+----------------+----------------+--------------------+---------------+----------+---+--------------------+-----------+------------+-------------+---------+-----------------------------+-----------+------+---------+\n",
      "only showing top 10 rows\n",
      "\n"
     ]
    }
   ],
   "source": [
    "ladf.sample(False, 0.0002, 999).show(10)"
   ]
  },
  {
   "cell_type": "code",
   "execution_count": 10,
   "id": "traditional-chester",
   "metadata": {},
   "outputs": [
    {
     "name": "stdout",
     "output_type": "stream",
     "text": [
      "There are 0 unique records that are duplicated.\n",
      "+----------+--------+-------------+----------------+----------------+---------+---------------+----------+---+---------+-----------+------------+-------------+---------+-----------------------------+-----------+------+---------+-----+\n",
      "|RECORD_NBR|PAY_YEAR|DEPARTMENT_NO|DEPARTMENT_TITLE|JOB_CLASS_PGRADE|JOB_TITLE|EMPLOYMENT_TYPE|JOB_STATUS|MOU|MOU_TITLE|REGULAR_PAY|OVERTIME_PAY|ALL_OTHER_PAY|TOTAL_PAY|CITY_RETIREMENT_CONTRIBUTIONS|BENEFIT_PAY|GENDER|ETHNICITY|count|\n",
      "+----------+--------+-------------+----------------+----------------+---------+---------------+----------+---+---------+-----------+------------+-------------+---------+-----------------------------+-----------+------+---------+-----+\n",
      "+----------+--------+-------------+----------------+----------------+---------+---------------+----------+---+---------+-----------+------------+-------------+---------+-----------------------------+-----------+------+---------+-----+\n",
      "\n"
     ]
    }
   ],
   "source": [
    "laduplicated = ladf.groupby(ladf.columns).count().where('count > 1').sort('count', ascending=False)\n",
    "print(f'There are {laduplicated.count()} unique records that are duplicated.')\n",
    "laduplicated.show()"
   ]
  },
  {
   "cell_type": "code",
   "execution_count": 11,
   "id": "wound-throw",
   "metadata": {},
   "outputs": [
    {
     "name": "stdout",
     "output_type": "stream",
     "text": [
      "root\n",
      " |-- RECORD_NBR: string (nullable = true)\n",
      " |-- PAY_YEAR: string (nullable = true)\n",
      " |-- DEPARTMENT_NO: string (nullable = true)\n",
      " |-- DEPARTMENT_TITLE: string (nullable = true)\n",
      " |-- JOB_CLASS_PGRADE: string (nullable = true)\n",
      " |-- JOB_TITLE: string (nullable = true)\n",
      " |-- EMPLOYMENT_TYPE: string (nullable = true)\n",
      " |-- JOB_STATUS: string (nullable = true)\n",
      " |-- MOU: string (nullable = true)\n",
      " |-- MOU_TITLE: string (nullable = true)\n",
      " |-- REGULAR_PAY: float (nullable = true)\n",
      " |-- OVERTIME_PAY: float (nullable = true)\n",
      " |-- ALL_OTHER_PAY: float (nullable = true)\n",
      " |-- TOTAL_PAY: float (nullable = true)\n",
      " |-- CITY_RETIREMENT_CONTRIBUTIONS: float (nullable = true)\n",
      " |-- BENEFIT_PAY: float (nullable = true)\n",
      " |-- GENDER: string (nullable = true)\n",
      " |-- ETHNICITY: string (nullable = true)\n",
      "\n"
     ]
    }
   ],
   "source": [
    "ladf = ladf.withColumn('REGULAR_PAY', F.col('REGULAR_PAY').cast(FloatType())) \\\n",
    "        .withColumn('OVERTIME_PAY', F.col('OVERTIME_PAY').cast(FloatType())) \\\n",
    "        .withColumn('ALL_OTHER_PAY', F.col('ALL_OTHER_PAY').cast(FloatType())) \\\n",
    "        .withColumn('TOTAL_PAY', F.col('TOTAL_PAY').cast(FloatType())) \\\n",
    "        .withColumn('CITY_RETIREMENT_CONTRIBUTIONS', F.col('CITY_RETIREMENT_CONTRIBUTIONS').cast(FloatType())) \\\n",
    "        .withColumn('BENEFIT_PAY', F.col('BENEFIT_PAY').cast(FloatType()))\n",
    "\n",
    "ladf.printSchema()"
   ]
  },
  {
   "cell_type": "code",
   "execution_count": 12,
   "id": "composite-elimination",
   "metadata": {},
   "outputs": [
    {
     "name": "stdout",
     "output_type": "stream",
     "text": [
      "There are a total of 165 different agencies in New York City Government.\n",
      "+------------------------------+\n",
      "|Agency                        |\n",
      "+------------------------------+\n",
      "|ADMIN FOR CHILDREN'S SVCS     |\n",
      "|ADMIN TRIALS AND HEARINGS     |\n",
      "|BOARD OF CORRECTION           |\n",
      "|BOARD OF CORRECTIONS          |\n",
      "|BOARD OF ELECTION             |\n",
      "|BOARD OF ELECTION POLL WORKERS|\n",
      "|BOROUGH PRESIDENT-BRONX       |\n",
      "|BOROUGH PRESIDENT-BROOKLYN    |\n",
      "|BOROUGH PRESIDENT-QUEENS      |\n",
      "|BOROUGH PRESIDENT-STATEN IS   |\n",
      "|BRONX COMMUNITY BOARD #1      |\n",
      "|BRONX COMMUNITY BOARD #10     |\n",
      "|BRONX COMMUNITY BOARD #11     |\n",
      "|BRONX COMMUNITY BOARD #12     |\n",
      "|BRONX COMMUNITY BOARD #2      |\n",
      "|BRONX COMMUNITY BOARD #3      |\n",
      "|BRONX COMMUNITY BOARD #4      |\n",
      "|BRONX COMMUNITY BOARD #5      |\n",
      "|BRONX COMMUNITY BOARD #6      |\n",
      "|BRONX COMMUNITY BOARD #7      |\n",
      "|BRONX COMMUNITY BOARD #8      |\n",
      "|BRONX COMMUNITY BOARD #9      |\n",
      "|BRONX DISTRICT ATTORNEY       |\n",
      "|BROOKLYN COMMUNITY BOARD #1   |\n",
      "|BROOKLYN COMMUNITY BOARD #10  |\n",
      "|BROOKLYN COMMUNITY BOARD #11  |\n",
      "|BROOKLYN COMMUNITY BOARD #12  |\n",
      "|BROOKLYN COMMUNITY BOARD #13  |\n",
      "|BROOKLYN COMMUNITY BOARD #14  |\n",
      "|BROOKLYN COMMUNITY BOARD #15  |\n",
      "|BROOKLYN COMMUNITY BOARD #16  |\n",
      "|BROOKLYN COMMUNITY BOARD #17  |\n",
      "|BROOKLYN COMMUNITY BOARD #18  |\n",
      "|BROOKLYN COMMUNITY BOARD #2   |\n",
      "|BROOKLYN COMMUNITY BOARD #3   |\n",
      "|BROOKLYN COMMUNITY BOARD #4   |\n",
      "|BROOKLYN COMMUNITY BOARD #5   |\n",
      "|BROOKLYN COMMUNITY BOARD #6   |\n",
      "|BROOKLYN COMMUNITY BOARD #7   |\n",
      "|BROOKLYN COMMUNITY BOARD #8   |\n",
      "|BROOKLYN COMMUNITY BOARD #9   |\n",
      "|BUSINESS INTEGRITY COMMISSION |\n",
      "|Bronx DA                      |\n",
      "|CAMPAIGN FINANCE BOARD        |\n",
      "|CITY CLERK                    |\n",
      "|CITY COUNCIL                  |\n",
      "|CIVIL SERVICE COMMISSION      |\n",
      "|CIVILIAN COMPLAINT REVIEW BD  |\n",
      "|COMMUNITY COLLEGE (BRONX)     |\n",
      "|COMMUNITY COLLEGE (HOSTOS)    |\n",
      "|COMMUNITY COLLEGE (KINGSBORO) |\n",
      "|COMMUNITY COLLEGE (LAGUARDIA) |\n",
      "|COMMUNITY COLLEGE (MANHATTAN) |\n",
      "|COMMUNITY COLLEGE (QUEENSBORO)|\n",
      "|CONFLICTS OF INTEREST BOARD   |\n",
      "|CONSUMER AFFAIRS              |\n",
      "|CULTURAL AFFAIRS              |\n",
      "|CUNY CENTRAL OFFICE           |\n",
      "|DEPARTMENT FOR THE AGING      |\n",
      "|DEPARTMENT OF BUILDINGS       |\n",
      "|DEPARTMENT OF BUSINESS SERV.  |\n",
      "|DEPARTMENT OF CITY PLANNING   |\n",
      "|DEPARTMENT OF CORRECTION      |\n",
      "|DEPARTMENT OF EDUCATION ADMIN |\n",
      "|DEPARTMENT OF FINANCE         |\n",
      "|DEPARTMENT OF INVESTIGATION   |\n",
      "|DEPARTMENT OF JUVENILE JUSTICE|\n",
      "|DEPARTMENT OF PROBATION       |\n",
      "|DEPARTMENT OF SANITATION      |\n",
      "|DEPARTMENT OF TRANSPORTATION  |\n",
      "|DEPT OF CITYWIDE ADMIN SVCS   |\n",
      "|DEPT OF ED HRLY SUPPORT STAFF |\n",
      "|DEPT OF ED PARA PROFESSIONALS |\n",
      "|DEPT OF ED PEDAGOGICAL        |\n",
      "|DEPT OF ED PER DIEM TEACHERS  |\n",
      "|DEPT OF ED PER SESSION TEACHER|\n",
      "|DEPT OF ENVIRONMENT PROTECTION|\n",
      "|DEPT OF HEALTH/MENTAL HYGIENE |\n",
      "|DEPT OF INFO TECH & TELECOMM  |\n",
      "|DEPT OF PARKS & RECREATION    |\n",
      "|DEPT OF RECORDS & INFO SERVICE|\n",
      "|DEPT OF YOUTH & COMM DEV SRVS |\n",
      "|DEPT. OF DESIGN & CONSTRUCTION|\n",
      "|DEPT. OF HOMELESS SERVICES    |\n",
      "|DISTRICT ATTORNEY KINGS COUNTY|\n",
      "|DISTRICT ATTORNEY QNS COUNTY  |\n",
      "|DISTRICT ATTORNEY RICHMOND COU|\n",
      "|DISTRICT ATTORNEY-MANHATTAN   |\n",
      "|DISTRICT ATTORNEY-SPECIAL NARC|\n",
      "|DISTRICTING COMMISSION        |\n",
      "|DOE CUSTODIAL PAYROL          |\n",
      "|EQUAL EMPLOY PRACTICES COMM   |\n",
      "|FINANCIAL INFO SVCS AGENCY    |\n",
      "|FIRE DEPARTMENT               |\n",
      "|GUTTMAN COMMUNITY COLLEGE     |\n",
      "|HOUSING PRESERVATION & DVLPMNT|\n",
      "|HRA/DEPT OF SOCIAL SERVICES   |\n",
      "|HUMAN RIGHTS COMMISSION       |\n",
      "|HUNTER COLLEGE HIGH SCHOOL    |\n",
      "|INDEPENDENT BUDGET OFFICE     |\n",
      "|Kings DA                      |\n",
      "|LANDMARKS PRESERVATION COMM   |\n",
      "|LAW DEPARTMENT                |\n",
      "|MANHATTAN COMMUNITY BOARD #1  |\n",
      "|MANHATTAN COMMUNITY BOARD #10 |\n",
      "|MANHATTAN COMMUNITY BOARD #11 |\n",
      "|MANHATTAN COMMUNITY BOARD #12 |\n",
      "|MANHATTAN COMMUNITY BOARD #2  |\n",
      "|MANHATTAN COMMUNITY BOARD #3  |\n",
      "|MANHATTAN COMMUNITY BOARD #4  |\n",
      "|MANHATTAN COMMUNITY BOARD #5  |\n",
      "|MANHATTAN COMMUNITY BOARD #6  |\n",
      "|MANHATTAN COMMUNITY BOARD #7  |\n",
      "|MANHATTAN COMMUNITY BOARD #8  |\n",
      "|MANHATTAN COMMUNITY BOARD #9  |\n",
      "|MAYORS OFFICE OF CONTRACT SVCS|\n",
      "|MUNICIPAL WATER FIN AUTHORITY |\n",
      "|Manhattan DA                  |\n",
      "|NYC DEPT OF VETERANS' SERVICES|\n",
      "|NYC EMPLOYEES RETIREMENT SYS  |\n",
      "|NYC FIRE PENSION FUND         |\n",
      "|NYC HOUSING AUTHORITY         |\n",
      "|NYC POLICE PENSION FUND       |\n",
      "|OFF OF PAYROLL ADMINISTRATION |\n",
      "|OFFICE OF COLLECTIVE BARGAININ|\n",
      "|OFFICE OF EMERGENCY MANAGEMENT|\n",
      "|OFFICE OF LABOR RELATIONS     |\n",
      "|OFFICE OF MANAGEMENT & BUDGET |\n",
      "|OFFICE OF THE ACTUARY         |\n",
      "|OFFICE OF THE COMPTROLLER     |\n",
      "|OFFICE OF THE MAYOR           |\n",
      "|PERSONNEL MONITORS            |\n",
      "|POLICE DEPARTMENT             |\n",
      "|PRESIDENT BOROUGH OF MANHATTAN|\n",
      "|PUBLIC ADMINISTRATOR-BRONX    |\n",
      "|PUBLIC ADMINISTRATOR-KINGS    |\n",
      "|PUBLIC ADMINISTRATOR-NEW YORK |\n",
      "|PUBLIC ADMINISTRATOR-QUEENS   |\n",
      "|PUBLIC ADMINISTRATOR-RICHMOND |\n",
      "|PUBLIC ADVOCATE               |\n",
      "|PUBLIC SERVICE CORPS          |\n",
      "|Police Department             |\n",
      "|QUEENS COMMUNITY BOARD #1     |\n",
      "|QUEENS COMMUNITY BOARD #10    |\n",
      "|QUEENS COMMUNITY BOARD #11    |\n",
      "|QUEENS COMMUNITY BOARD #12    |\n",
      "|QUEENS COMMUNITY BOARD #13    |\n",
      "|QUEENS COMMUNITY BOARD #14    |\n",
      "|QUEENS COMMUNITY BOARD #2     |\n",
      "|QUEENS COMMUNITY BOARD #3     |\n",
      "|QUEENS COMMUNITY BOARD #4     |\n",
      "|QUEENS COMMUNITY BOARD #5     |\n",
      "|QUEENS COMMUNITY BOARD #6     |\n",
      "|QUEENS COMMUNITY BOARD #7     |\n",
      "|QUEENS COMMUNITY BOARD #8     |\n",
      "|QUEENS COMMUNITY BOARD #9     |\n",
      "|Queens DA                     |\n",
      "|Richmond DA                   |\n",
      "|STATEN ISLAND COMMUNITY BD #1 |\n",
      "|STATEN ISLAND COMMUNITY BD #2 |\n",
      "|STATEN ISLAND COMMUNITY BD #3 |\n",
      "|Spec Narcs-DA                 |\n",
      "|TAX COMMISSION                |\n",
      "|TAXI & LIMOUSINE COMMISSION   |\n",
      "|TEACHERS RETIREMENT SYSTEM    |\n",
      "+------------------------------+\n",
      "\n"
     ]
    }
   ],
   "source": [
    "nycdf.createOrReplaceTempView(\"nycpayroll\")\n",
    "tab1 = spark.sql(\"SELECT DISTINCT `Agency Name` AS Agency FROM nycpayroll ORDER BY Agency\")\n",
    "print(f\"There are a total of {tab1.count()} different agencies in New York City Government.\")\n",
    "tab1.show(tab1.count(), truncate=False)"
   ]
  },
  {
   "cell_type": "code",
   "execution_count": 20,
   "id": "flexible-thriller",
   "metadata": {},
   "outputs": [
    {
     "name": "stdout",
     "output_type": "stream",
     "text": [
      "+----+---------------------+\n",
      "|Year|TotalPay             |\n",
      "+----+---------------------+\n",
      "|2020|3.0418574408038723E10|\n",
      "|2019|2.9516889519514572E10|\n",
      "|2018|2.754931705163799E10 |\n",
      "|2017|2.71458727757124E10  |\n",
      "|2016|2.551809716312446E10 |\n",
      "|2015|2.4334088182743454E10|\n",
      "|2014|2.286248314362995E10 |\n",
      "+----+---------------------+\n",
      "\n"
     ]
    }
   ],
   "source": [
    "tab2 = spark.sql(\"\"\"SELECT `Fiscal Year` AS Year,\n",
    "                    SUM(`Regular Gross Paid` + `Total OT Paid` + `Total Other Pay`) AS TotalPay\n",
    "                    FROM nycpayroll\n",
    "                    GROUP BY Year\n",
    "                    ORDER BY TotalPay DESC\n",
    "        \"\"\")\n",
    "\n",
    "tab2.show(truncate=False)"
   ]
  },
  {
   "cell_type": "code",
   "execution_count": 13,
   "id": "sunrise-burden",
   "metadata": {},
   "outputs": [
    {
     "name": "stdout",
     "output_type": "stream",
     "text": [
      "+------------------------------+--------------------+-----------------+------------------+\n",
      "|Agency                        |TotalPay            |NumberOfEmployees|AveragePayOfAgency|\n",
      "+------------------------------+--------------------+-----------------+------------------+\n",
      "|DEPT OF ED PEDAGOGICAL        |9.971256719987915E9 |114999           |86707.33          |\n",
      "|POLICE DEPARTMENT             |5.356858772763836E9 |60316            |88813.23          |\n",
      "|FIRE DEPARTMENT               |1.8644133478075857E9|19193            |97140.28          |\n",
      "|DEPT OF ED PARA PROFESSIONALS |1.2480015119021907E9|41353            |30179.23          |\n",
      "|DEPARTMENT OF CORRECTION      |1.0949519880879471E9|12723            |86060.83          |\n",
      "|DEPARTMENT OF EDUCATION ADMIN |1.0548904804637426E9|17869            |59034.67          |\n",
      "|DEPARTMENT OF SANITATION      |1.0275529499124413E9|11787            |87176.8           |\n",
      "|NYC HOUSING AUTHORITY         |8.617265504048588E8 |13978            |61648.77          |\n",
      "|HRA/DEPT OF SOCIAL SERVICES   |8.278528244715536E8 |14547            |56908.84          |\n",
      "|DEPT OF ENVIRONMENT PROTECTION|6.015208329669925E8 |7295             |82456.59          |\n",
      "|DEPT OF HEALTH/MENTAL HYGIENE |5.54613627142681E8  |8301             |66812.87          |\n",
      "|ADMIN FOR CHILDREN'S SVCS     |5.527218076526523E8 |8634             |64016.89          |\n",
      "|DEPARTMENT OF TRANSPORTATION  |5.342477675511919E8 |6683             |79941.31          |\n",
      "|DEPT OF PARKS & RECREATION    |4.400740449362645E8 |14008            |31415.91          |\n",
      "|DEPT OF ED HRLY SUPPORT STAFF |4.339663492123003E8 |21373            |20304.42          |\n",
      "|DEPT OF ED PER SESSION TEACHER|3.2135007643939257E8|105717           |3039.72           |\n",
      "|DEPT OF CITYWIDE ADMIN SVCS   |2.1707229305472207E8|3014             |72021.33          |\n",
      "|HOUSING PRESERVATION & DVLPMNT|1.8585725322133914E8|2853             |65144.5           |\n",
      "|DEPARTMENT OF FINANCE         |1.7572537366005135E8|2445             |71871.32          |\n",
      "|DEPT. OF HOMELESS SERVICES    |1.620756650103343E8 |3006             |53917.39          |\n",
      "|LAW DEPARTMENT                |1.608058363269558E8 |2244             |71660.35          |\n",
      "|COMMUNITY COLLEGE (MANHATTAN) |1.5987153212006485E8|6539             |24448.93          |\n",
      "|DEPT OF INFO TECH & TELECOMM  |1.581204514333458E8 |1941             |81463.4           |\n",
      "|DEPT OF ED PER DIEM TEACHERS  |1.5139730344249535E8|11323            |13370.78          |\n",
      "|DEPARTMENT OF BUILDINGS       |1.4115959984891987E8|2143             |65870.09          |\n",
      "+------------------------------+--------------------+-----------------+------------------+\n",
      "\n"
     ]
    }
   ],
   "source": [
    "tab3 = spark.sql(\"\"\"SELECT *, ROUND(TotalPay/NumberOfEmployees, 2) AS AveragePayOfAgency\n",
    "                    FROM (SELECT `Agency Name` AS Agency, \n",
    "                    SUM(`Regular Gross Paid` + `Total OT Paid` + `Total Other Pay`) AS TotalPay,\n",
    "                    COUNT(`Row Index`) AS NumberOfEmployees FROM nycpayroll\n",
    "                    WHERE `Fiscal Year` == 2020\n",
    "                    GROUP BY Agency\n",
    "                    ORDER BY TotalPay DESC, NumberOfEmployees DESC\n",
    "                    LIMIT 25)\n",
    "        \"\"\")\n",
    "\n",
    "tab3.show(25, truncate=False)"
   ]
  },
  {
   "cell_type": "code",
   "execution_count": 22,
   "id": "artificial-johnston",
   "metadata": {},
   "outputs": [
    {
     "name": "stdout",
     "output_type": "stream",
     "text": [
      "+------------------------------+--------------------+----------------+\n",
      "|Agency                        |TotalHours          |AverageHourlyPay|\n",
      "+------------------------------+--------------------+----------------+\n",
      "|POLICE DEPARTMENT             |1.268098118532486E8 |37.21           |\n",
      "|FIRE DEPARTMENT               |4.362525443268359E7 |37.77           |\n",
      "|DEPARTMENT OF CORRECTION      |2.724735552547455E7 |36.2            |\n",
      "|DEPARTMENT OF EDUCATION ADMIN |2.47645985E7        |39.8            |\n",
      "|NYC HOUSING AUTHORITY         |2.4324237E7         |33.74           |\n",
      "|HRA/DEPT OF SOCIAL SERVICES   |2.4090660520507812E7|32.43           |\n",
      "|DEPARTMENT OF SANITATION      |2.375066957244873E7 |38.16           |\n",
      "|DEPT OF PARKS & RECREATION    |1.4635142969848633E7|28.15           |\n",
      "|ADMIN FOR CHILDREN'S SVCS     |1.4023586790222168E7|37.96           |\n",
      "|DEPT OF HEALTH/MENTAL HYGIENE |1.2891069119873047E7|40.06           |\n",
      "|DEPT OF ENVIRONMENT PROTECTION|1.2672862378845215E7|43.99           |\n",
      "|DEPARTMENT OF TRANSPORTATION  |1.184335651965332E7 |42.56           |\n",
      "|DEPT OF CITYWIDE ADMIN SVCS   |5417780.110107422   |38.64           |\n",
      "|DEPT. OF HOMELESS SERVICES    |4758149.880371094   |32.1            |\n",
      "|HOUSING PRESERVATION & DVLPMNT|4552971.439941406   |39.17           |\n",
      "|DEPARTMENT OF FINANCE         |3996513.729736328   |42.31           |\n",
      "|LAW DEPARTMENT                |3445763.75          |45.89           |\n",
      "|DEPARTMENT OF BUILDINGS       |3396004.3498535156  |40.54           |\n",
      "|DEPT OF INFO TECH & TELECOMM  |3000081.3399658203  |51.1            |\n",
      "|DISTRICT ATTORNEY-MANHATTAN   |2800701.3600463867  |44.55           |\n",
      "|COMMUNITY COLLEGE (MANHATTAN) |2566012.5400390625  |60.66           |\n",
      "|DEPT. OF DESIGN & CONSTRUCTION|2420364.75          |48.68           |\n",
      "|DEPARTMENT OF PROBATION       |2332211.2202148438  |32.81           |\n",
      "|COMMUNITY COLLEGE (LAGUARDIA) |2182169.3196411133  |55.83           |\n",
      "|DISTRICT ATTORNEY KINGS COUNTY|2123224.0           |41.39           |\n",
      "|BRONX DISTRICT ATTORNEY       |1959387.0           |39.07           |\n",
      "|COMMUNITY COLLEGE (KINGSBORO) |1784441.4001464844  |54.98           |\n",
      "|BOARD OF ELECTION             |1776008.730102539   |29.11           |\n",
      "|COMMUNITY COLLEGE (QUEENSBORO)|1652115.75          |62.23           |\n",
      "|COMMUNITY COLLEGE (BRONX)     |1524315.9198608398  |56.51           |\n",
      "+------------------------------+--------------------+----------------+\n",
      "\n"
     ]
    }
   ],
   "source": [
    "tab4 = spark.sql(\"\"\"SELECT Agency, TotalHours, ROUND(TotalWorkPay/TotalHours, 2) AS AverageHourlyPay\n",
    "                    FROM (SELECT `Agency Name` AS Agency,\n",
    "                    SUM(`Regular Hours` + `OT Hours`) AS TotalHours,\n",
    "                    SUM(`Regular Gross Paid` + `Total OT Paid`) AS TotalWorkPay\n",
    "                    FROM nycpayroll\n",
    "                    WHERE `FISCAL YEAR` == 2020\n",
    "                    GROUP BY Agency\n",
    "                    ORDER BY TotalHours DESC\n",
    "                    LIMIT 30)\n",
    "        \"\"\")\n",
    "\n",
    "tab4.show(30, truncate=False)"
   ]
  },
  {
   "cell_type": "code",
   "execution_count": 28,
   "id": "vanilla-miami",
   "metadata": {},
   "outputs": [
    {
     "name": "stdout",
     "output_type": "stream",
     "text": [
      "+------------------------------+-----------------+----------------+\n",
      "|Agency                        |NumberOfEmployees|AverageHourlyPay|\n",
      "+------------------------------+-----------------+----------------+\n",
      "|COMMUNITY COLLEGE (MANHATTAN) |6539             |60.66           |\n",
      "|COMMUNITY COLLEGE (LAGUARDIA) |4902             |55.83           |\n",
      "|COMMUNITY COLLEGE (KINGSBORO) |4085             |54.98           |\n",
      "|COMMUNITY COLLEGE (QUEENSBORO)|4222             |62.23           |\n",
      "|COMMUNITY COLLEGE (BRONX)     |3484             |56.51           |\n",
      "|COMMUNITY COLLEGE (HOSTOS)    |2353             |51.9            |\n",
      "|GUTTMAN COMMUNITY COLLEGE     |795              |57.94           |\n",
      "|HUNTER COLLEGE HIGH SCHOOL    |351              |52.97           |\n",
      "|DEPT OF ED PER DIEM TEACHERS  |90784            |null            |\n",
      "|DEPT OF ED PER SESSION TEACHER|608565           |null            |\n",
      "|DEPT OF ED PEDAGOGICAL        |758360           |null            |\n",
      "|DEPT OF ED PARA PROFESSIONALS |245259           |null            |\n",
      "|DEPT OF ED HRLY SUPPORT STAFF |164165           |null            |\n",
      "+------------------------------+-----------------+----------------+\n",
      "\n"
     ]
    }
   ],
   "source": [
    "tab4 = spark.sql(\"\"\"SELECT Agency, NumberOfEmployees, ROUND(TotalWorkPay/TotalHours, 2) AS AverageHourlyPay\n",
    "                    FROM (SELECT `Agency Name` AS Agency, COUNT(`Row Index`) AS NumberOfEmployees,\n",
    "                    SUM(`Regular Hours` + `OT Hours`) AS TotalHours,\n",
    "                    SUM(`Regular Gross Paid` + `Total OT Paid`) AS TotalWorkPay\n",
    "                    FROM nycpayroll\n",
    "                    WHERE `FISCAL YEAR` = 2020 AND `Agency Name` LIKE '%COLLEGE%' \n",
    "                    OR `Agency Name` LIKE 'DEPT OF ED%'\n",
    "                    GROUP BY Agency\n",
    "                    ORDER BY TotalHours DESC)\n",
    "        \"\"\")\n",
    "\n",
    "tab4.show(30, truncate=False)"
   ]
  },
  {
   "cell_type": "code",
   "execution_count": 57,
   "id": "composite-ranch",
   "metadata": {
    "scrolled": false
   },
   "outputs": [
    {
     "name": "stdout",
     "output_type": "stream",
     "text": [
      "+--------------------+-----+\n",
      "|   Title Description|count|\n",
      "+--------------------+-----+\n",
      "|   COLLEGE ASSISTANT| 6917|\n",
      "|    ADJUNCT LECTURER| 4131|\n",
      "|ADJUNCT ASSISTANT...| 1377|\n",
      "|CONTINUING EDUCAT...| 1350|\n",
      "|NON-TEACHING ADJU...| 1305|\n",
      "| ASSISTANT PROFESSOR| 1110|\n",
      "| ASSOCIATE PROFESSOR|  981|\n",
      "|           PROFESSOR|  844|\n",
      "|HIGHER EDUCATION ...|  761|\n",
      "|            LECTURER|  672|\n",
      "|CUNY CUSTODIAL AS...|  537|\n",
      "|CUNY OFFICE ASSIS...|  512|\n",
      "|NON-TEACHING ADJU...|  509|\n",
      "|ADJUNCT COLLEGE L...|  476|\n",
      "|        STUDENT AIDE|  431|\n",
      "|    ASSISTANT TO HEO|  415|\n",
      "|HIGHER EDUCATION ...|  380|\n",
      "|NON-TEACHING ADJU...|  361|\n",
      "|HIGHER EDUCATION ...|  299|\n",
      "|NON-TEACHING ADJU...|  212|\n",
      "+--------------------+-----+\n",
      "only showing top 20 rows\n",
      "\n"
     ]
    }
   ],
   "source": [
    "colleges = ['COMMUNITY COLLEGE (MANHATTAN)', 'COMMUNITY COLLEGE (LAGUARDIA)', 'COMMUNITY COLLEGE (KINGSBORO)', 'COMMUNITY COLLEGE (QUEENSBORO)', 'COMMUNITY COLLEGE (BRONX)', 'COMMUNITY COLLEGE (HOSTOS)', 'GUTTMAN COMMUNITY COLLEGE']\n",
    "nycdf.where((F.col('Fiscal Year') == 2020) & (F.col('Agency Name').isin(colleges))) \\\n",
    ".groupby('Title Description').count().sort(F.desc('count')).show()"
   ]
  },
  {
   "cell_type": "code",
   "execution_count": 70,
   "id": "distinct-turkey",
   "metadata": {
    "scrolled": false
   },
   "outputs": [
    {
     "name": "stdout",
     "output_type": "stream",
     "text": [
      "+----------------------------+---------+-----+----------------+------------+------------+\n",
      "|Position                    |Pay Basis|Count|AverageHourlyPay|MaxHourlyPay|MinHourlyPay|\n",
      "+----------------------------+---------+-----+----------------+------------+------------+\n",
      "|DISTINGUISHED PROFESSOR     |per Annum|1    |658.83          |658.83      |658.83      |\n",
      "|UNIVERSITY PROFESSOR        |per Annum|2    |623.56          |630.89      |620.2       |\n",
      "|PROFESSOR                   |per Annum|540  |444.06          |1107.71     |35.68       |\n",
      "|CLINICAL PROFESSOR          |per Annum|1    |411.96          |411.96      |411.96      |\n",
      "|ASSOCIATE PROFESSOR         |per Annum|639  |345.15          |516.51      |47.33       |\n",
      "|NON-TEACHING ADJUNCT II     |per Day  |2    |339.01          |427.78      |294.63      |\n",
      "|EOC LECTURER                |per Annum|10   |309.28          |331.72      |252.58      |\n",
      "|ASSISTANT PROFESSOR         |per Annum|773  |296.06          |438.49      |-298.44     |\n",
      "|LECTURER                    |per Annum|402  |283.48          |409.95      |47.39       |\n",
      "|INSTRUCTOR                  |per Annum|51   |245.91          |305.03      |127.04      |\n",
      "|CUNY START INSTRUCTOR       |per Annum|74   |237.52          |285.95      |188.64      |\n",
      "|CLIP INSTRUCTOR             |per Annum|63   |210.44          |260.92      |169.59      |\n",
      "|CONTINUING EDUCATION TEACHER|per Day  |6    |187.36          |227.41      |156.35      |\n",
      "|ADJUNCT PROFESSOR           |per Day  |65   |165.01          |378.21      |59.08       |\n",
      "|EOC ADJUNCT LECTURER        |per Day  |38   |144.62          |187.86      |43.57       |\n",
      "|ADJUNCT ASSOCIATE PROFESSOR |per Day  |96   |141.61          |472.72      |12.81       |\n",
      "|ASSISTANT PROFESSOR         |per Day  |296  |131.78          |852.6       |7.92        |\n",
      "|ASSOCIATE PROFESSOR         |per Day  |289  |125.2           |787.86      |8.59        |\n",
      "|PRESIDENT                   |per Annum|9    |124.86          |160.11      |119.13      |\n",
      "|PROFESSOR                   |per Day  |269  |123.77          |448.01      |12.53       |\n",
      "+----------------------------+---------+-----+----------------+------------+------------+\n",
      "only showing top 20 rows\n",
      "\n"
     ]
    }
   ],
   "source": [
    "tab5 = spark.sql(\"\"\"SELECT Position, `Pay Basis`, Count,\n",
    "            ROUND(TotalWorkPay/TotalHours, 2) AS AverageHourlyPay, \n",
    "            MaxHourlyPay, MinHourlyPay\n",
    "            FROM (SELECT `Title Description` AS Position, `Pay Basis`, COUNT(`Row Index`) AS Count,\n",
    "            SUM(`Regular Hours` + `OT Hours`) AS TotalHours,\n",
    "            SUM(`Regular Gross Paid` + `Total OT Paid`) AS TotalWorkPay,\n",
    "            ROUND(MAX((`Regular Gross Paid` + `Total OT Paid`)/(`Regular Hours` + `OT Hours`)), 2) AS MaxHourlyPay,\n",
    "            ROUND(MIN((`Regular Gross Paid` + `Total OT Paid`)/(`Regular Hours` + `OT Hours`)), 2) AS MinHourlyPay\n",
    "            FROM nycpayroll\n",
    "            WHERE `Fiscal Year` = 2020 AND `Agency Name` LIKE '%COMMUNITY COLLEGE%'\n",
    "            GROUP BY Position, `Pay Basis`\n",
    "            ORDER BY TotalHours DESC) \n",
    "            ORDER BY AverageHourlyPay DESC\n",
    "        \"\"\")\n",
    "\n",
    "tab5.show(truncate=False)"
   ]
  },
  {
   "cell_type": "code",
   "execution_count": 72,
   "id": "changed-quebec",
   "metadata": {},
   "outputs": [
    {
     "name": "stdout",
     "output_type": "stream",
     "text": [
      "+-----------+--------------+--------------------+---------+----------+--------+-----------------+---------------------+-------------------+--------------------------+-----------+---------+-------------+------------------+--------+-------------+---------------+-------------+\n",
      "|Fiscal Year|Payroll Number|         Agency Name|Last Name|First Name|Mid Init|Agency Start Date|Work Location Borough|  Title Description|Leave Status as of June 30|Base Salary|Pay Basis|Regular Hours|Regular Gross Paid|OT Hours|Total OT Paid|Total Other Pay|    Row Index|\n",
      "+-----------+--------------+--------------------+---------+----------+--------+-----------------+---------------------+-------------------+--------------------------+-----------+---------+-------------+------------------+--------+-------------+---------------+-------------+\n",
      "|       2020|           468|COMMUNITY COLLEGE...|   LAUCER|    HAMIDE|    null|             null|                BRONX|ASSISTANT PROFESSOR|                  SEASONAL|     151.99|  per Day|          -10|          -3039.84|     0.0|          0.0|        1550.32|1030792151043|\n",
      "|       2020|           468|COMMUNITY COLLEGE...|    RONCA|  KATHLEEN|       A|             null|                BRONX|ASSISTANT PROFESSOR|                  SEASONAL|      48.72|  per Day|          -10|            -974.4|     0.0|          0.0|         606.54|1082331758599|\n",
      "+-----------+--------------+--------------------+---------+----------+--------+-----------------+---------------------+-------------------+--------------------------+-----------+---------+-------------+------------------+--------+-------------+---------------+-------------+\n",
      "\n"
     ]
    }
   ],
   "source": [
    "nycdf.filter((F.col('Fiscal Year') == 2020) & (F.col('Title Description') == 'ASSISTANT PROFESSOR') \n",
    "             & (F.col('Regular Gross Paid') + F.col('Total OT Paid') < 0)).show()"
   ]
  },
  {
   "cell_type": "code",
   "execution_count": 74,
   "id": "mathematical-alexandria",
   "metadata": {},
   "outputs": [
    {
     "name": "stdout",
     "output_type": "stream",
     "text": [
      "+-----------+--------------+--------------------+---------+----------+--------+-----------------+---------------------+--------------------+--------------------------+-----------+---------+-------------+------------------+--------+-------------+---------------+-------------+\n",
      "|Fiscal Year|Payroll Number|         Agency Name|Last Name|First Name|Mid Init|Agency Start Date|Work Location Borough|   Title Description|Leave Status as of June 30|Base Salary|Pay Basis|Regular Hours|Regular Gross Paid|OT Hours|Total OT Paid|Total Other Pay|    Row Index|\n",
      "+-----------+--------------+--------------------+---------+----------+--------+-----------------+---------------------+--------------------+--------------------------+-----------+---------+-------------+------------------+--------+-------------+---------------+-------------+\n",
      "|       2020|           468|COMMUNITY COLLEGE...|    RONCA|  KATHLEEN|       A|             null|                BRONX|NON-TEACHING ADJU...|                    CEASED|      49.69| per Hour|            9|            447.22|     0.0|          0.0|            0.0| 154618825159|\n",
      "|       2020|           468|COMMUNITY COLLEGE...|   LAUCER|    HAMIDE|    null|             null|                BRONX|NON-TEACHING ADJU...|                    CEASED|      52.73| per Hour|            6|            310.14|     0.0|          0.0|            0.0| 781684049649|\n",
      "|       2020|           468|COMMUNITY COLLEGE...|   LAUCER|    HAMIDE|    null|             null|                BRONX| ASSISTANT PROFESSOR|                  SEASONAL|     151.99|  per Day|          -10|          -3039.84|     0.0|          0.0|        1550.32|1030792151043|\n",
      "|       2020|           468|COMMUNITY COLLEGE...|    RONCA|  KATHLEEN|       A|             null|                BRONX| ASSISTANT PROFESSOR|                  SEASONAL|      48.72|  per Day|          -10|            -974.4|     0.0|          0.0|         606.54|1082331758599|\n",
      "|       2020|           468|COMMUNITY COLLEGE...|   LAUCER|    HAMIDE|    null|             null|                BRONX| ASSISTANT PROFESSOR|                    ACTIVE|    93791.0|per Annum|          260|          94004.75|     0.0|          0.0|            0.0|1082331763156|\n",
      "|       2020|           468|COMMUNITY COLLEGE...|    RONCA|  KATHLEEN|       A|             null|                BRONX| ASSISTANT PROFESSOR|                    ACTIVE|    87762.0|per Annum|          260|          86627.54|     0.0|          0.0|            0.0|1417339212038|\n",
      "+-----------+--------------+--------------------+---------+----------+--------+-----------------+---------------------+--------------------+--------------------------+-----------+---------+-------------+------------------+--------+-------------+---------------+-------------+\n",
      "\n"
     ]
    }
   ],
   "source": [
    "nycdf.filter((F.col('Fiscal Year') == 2020) & (F.col('Last Name').isin({'LAUCER', 'RONCA'})) \n",
    "             & (F.col('First Name').isin({'HAMIDE', 'KATHLEEN'}))).show()"
   ]
  },
  {
   "cell_type": "code",
   "execution_count": 76,
   "id": "particular-improvement",
   "metadata": {},
   "outputs": [
    {
     "name": "stdout",
     "output_type": "stream",
     "text": [
      "+-----------+--------------+--------------------+----------+----------+--------+-----------------+---------------------+--------------------+--------------------------+-----------+---------+-------------+------------------+--------+-------------+---------------+-------------+\n",
      "|Fiscal Year|Payroll Number|         Agency Name| Last Name|First Name|Mid Init|Agency Start Date|Work Location Borough|   Title Description|Leave Status as of June 30|Base Salary|Pay Basis|Regular Hours|Regular Gross Paid|OT Hours|Total OT Paid|Total Other Pay|    Row Index|\n",
      "+-----------+--------------+--------------------+----------+----------+--------+-----------------+---------------------+--------------------+--------------------------+-----------+---------+-------------+------------------+--------+-------------+---------------+-------------+\n",
      "|       2020|           466|COMMUNITY COLLEGE...|     PEREZ|   ANTONIO|    null|             null|            MANHATTAN|UNIVERSITY PROFESSOR|                    ACTIVE|   162270.0|per Annum|          218|         135202.89|     0.0|          0.0|         257.51|1185410974580|\n",
      "|       2020|           463|COMMUNITY COLLEGE...|     KEIZS|    MARCIA|       V|             null|               QUEENS|UNIVERSITY PROFESSOR|                    ACTIVE|   157079.0|per Annum|          100|          63089.14|     0.0|          0.0|            0.0|1236950584604|\n",
      "|       2020|           468|COMMUNITY COLLEGE...|GOLDEMBERG|     ISAAC|    null|             null|                BRONX|DISTINGUISHED PRO...|                    CEASED|   159649.0|per Annum|           40|          26353.25|     0.0|          0.0|            0.0|1374389536296|\n",
      "+-----------+--------------+--------------------+----------+----------+--------+-----------------+---------------------+--------------------+--------------------------+-----------+---------+-------------+------------------+--------+-------------+---------------+-------------+\n",
      "\n"
     ]
    }
   ],
   "source": [
    "nycdf.filter((F.col('Fiscal Year') == 2020) & (F.col('Title Description').isin({'DISTINGUISHED PROFESSOR', 'UNIVERSITY PROFESSOR'}))).show()"
   ]
  },
  {
   "cell_type": "code",
   "execution_count": null,
   "id": "visible-beginning",
   "metadata": {},
   "outputs": [],
   "source": []
  }
 ],
 "metadata": {
  "kernelspec": {
   "display_name": "Python 3",
   "language": "python",
   "name": "python3"
  },
  "language_info": {
   "codemirror_mode": {
    "name": "ipython",
    "version": 3
   },
   "file_extension": ".py",
   "mimetype": "text/x-python",
   "name": "python",
   "nbconvert_exporter": "python",
   "pygments_lexer": "ipython3",
   "version": "3.8.8"
  }
 },
 "nbformat": 4,
 "nbformat_minor": 5
}
