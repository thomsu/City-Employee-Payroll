{
 "cells": [
  {
   "cell_type": "code",
   "execution_count": 1,
   "id": "curious-toilet",
   "metadata": {},
   "outputs": [],
   "source": [
    "from pyspark.sql import SparkSession\n",
    "from pyspark.conf import SparkConf\n",
    "from pyspark.sql.types import DateType, StringType, FloatType, IntegerType\n",
    "from pyspark.sql.window import Window\n",
    "import pyspark.sql.functions as F"
   ]
  },
  {
   "cell_type": "code",
   "execution_count": 2,
   "id": "systematic-rough",
   "metadata": {},
   "outputs": [],
   "source": [
    "spark = SparkSession.builder \\\n",
    "    .master(\"local[*]\") \\\n",
    "    .appName(\"PySpark City Payroll Analysis\") \\\n",
    "    .config(\"spark.driver.memory\", \"2g\") \\\n",
    "    .config(\"spark.executor.memory\", \"2g\") \\\n",
    "    .getOrCreate()"
   ]
  },
  {
   "cell_type": "code",
   "execution_count": 3,
   "id": "loaded-retail",
   "metadata": {},
   "outputs": [],
   "source": [
    "nycdf = spark.read.option(\"header\",True).csv(\"City_Employee_Payroll_New_York_City.csv\")\n",
    "ladf = spark.read.option(\"header\",True).csv(\"City_Employee_Payroll_Los_Angeles.csv\")"
   ]
  },
  {
   "cell_type": "code",
   "execution_count": 4,
   "id": "superb-thursday",
   "metadata": {},
   "outputs": [
    {
     "name": "stdout",
     "output_type": "stream",
     "text": [
      "root\n",
      " |-- Fiscal Year: string (nullable = true)\n",
      " |-- Payroll Number: string (nullable = true)\n",
      " |-- Agency Name: string (nullable = true)\n",
      " |-- Last Name: string (nullable = true)\n",
      " |-- First Name: string (nullable = true)\n",
      " |-- Mid Init: string (nullable = true)\n",
      " |-- Agency Start Date: string (nullable = true)\n",
      " |-- Work Location Borough: string (nullable = true)\n",
      " |-- Title Description: string (nullable = true)\n",
      " |-- Leave Status as of June 30: string (nullable = true)\n",
      " |-- Base Salary: string (nullable = true)\n",
      " |-- Pay Basis: string (nullable = true)\n",
      " |-- Regular Hours: string (nullable = true)\n",
      " |-- Regular Gross Paid: string (nullable = true)\n",
      " |-- OT Hours: string (nullable = true)\n",
      " |-- Total OT Paid: string (nullable = true)\n",
      " |-- Total Other Pay: string (nullable = true)\n",
      "\n"
     ]
    }
   ],
   "source": [
    "nycdf.printSchema()"
   ]
  },
  {
   "cell_type": "code",
   "execution_count": 5,
   "id": "laden-residence",
   "metadata": {},
   "outputs": [
    {
     "name": "stdout",
     "output_type": "stream",
     "text": [
      "root\n",
      " |-- RECORD_NBR: string (nullable = true)\n",
      " |-- PAY_YEAR: string (nullable = true)\n",
      " |-- DEPARTMENT_NO: string (nullable = true)\n",
      " |-- DEPARTMENT_TITLE: string (nullable = true)\n",
      " |-- JOB_CLASS_PGRADE: string (nullable = true)\n",
      " |-- JOB_TITLE: string (nullable = true)\n",
      " |-- EMPLOYMENT_TYPE: string (nullable = true)\n",
      " |-- JOB_STATUS: string (nullable = true)\n",
      " |-- MOU: string (nullable = true)\n",
      " |-- MOU_TITLE: string (nullable = true)\n",
      " |-- REGULAR_PAY: string (nullable = true)\n",
      " |-- OVERTIME_PAY: string (nullable = true)\n",
      " |-- ALL_OTHER_PAY: string (nullable = true)\n",
      " |-- TOTAL_PAY: string (nullable = true)\n",
      " |-- CITY_RETIREMENT_CONTRIBUTIONS: string (nullable = true)\n",
      " |-- BENEFIT_PAY: string (nullable = true)\n",
      " |-- GENDER: string (nullable = true)\n",
      " |-- ETHNICITY: string (nullable = true)\n",
      "\n"
     ]
    }
   ],
   "source": [
    "ladf.printSchema()"
   ]
  },
  {
   "cell_type": "code",
   "execution_count": 6,
   "id": "native-flight",
   "metadata": {},
   "outputs": [
    {
     "name": "stdout",
     "output_type": "stream",
     "text": [
      "+-----------+--------------+-----------------+-----------+----------+--------+-----------------+---------------------+--------------------+--------------------------+-----------+---------+-------------+------------------+--------+-------------+---------------+\n",
      "|Fiscal Year|Payroll Number|      Agency Name|  Last Name|First Name|Mid Init|Agency Start Date|Work Location Borough|   Title Description|Leave Status as of June 30|Base Salary|Pay Basis|Regular Hours|Regular Gross Paid|OT Hours|Total OT Paid|Total Other Pay|\n",
      "+-----------+--------------+-----------------+-----------+----------+--------+-----------------+---------------------+--------------------+--------------------------+-----------+---------+-------------+------------------+--------+-------------+---------------+\n",
      "|       2020|            56|POLICE DEPARTMENT|     WALKER|     JAMAL|       H|       01/10/2005|             BROOKLYN|     P.O. DA DET GR3|                    ACTIVE|   96502.00|per Annum|         2080|          95892.38|  668.57|     36078.88|       16789.12|\n",
      "|       2020|            56|POLICE DEPARTMENT|     MOONEY|   PATRICK|       L|       07/22/2002|            MANHATTAN|     P.O. DA DET GR3|                    CEASED|   96502.00|per Annum|       1954.3|          90144.27|   334.5|     24379.71|       19967.38|\n",
      "|       2020|            56|POLICE DEPARTMENT|        LAU|   KAMYUEN|    null|       09/29/2000|               QUEENS|      POLICE OFFICER|                    ACTIVE|   85292.00|per Annum|         2080|          84831.14|     545|     31658.74|       17256.66|\n",
      "|       2020|            56|POLICE DEPARTMENT|       HOOP|     GAVIN|       S|       07/10/2006|                BRONX|           SERGEANT-|                    ACTIVE|  109360.00|per Annum|         2080|         108768.97|  132.83|      6715.62|       17245.51|\n",
      "|       2020|            56|POLICE DEPARTMENT|     AIELLO|   MATTHEW|       A|       01/09/2006|             RICHMOND|      POLICE OFFICER|                    ACTIVE|   85292.00|per Annum|         2080|          84831.14|  167.17|      8047.68|       14449.92|\n",
      "|       2020|            56|POLICE DEPARTMENT|  FERNANDEZ|     OSCAR|       R|       01/04/2017|                BRONX|      POLICE OFFICER|                    ACTIVE|   54394.00|per Annum|         2080|          53927.40|  264.22|      7213.76|        9461.92|\n",
      "|       2020|            56|POLICE DEPARTMENT|   MARTELLI|     DAVID|       M|       07/02/2018|               QUEENS|      POLICE OFFICER|                    ACTIVE|   45000.00|per Annum|         2080|          43438.28|  225.17|      4309.56|        6076.57|\n",
      "|       2020|            56|POLICE DEPARTMENT|SCANTLEBURY|      TONI|       E|       10/29/2018|             BROOKLYN|POLICE COMMUNICAT...|                    ACTIVE|   40636.00|per Annum|         1820|          39460.48|  245.75|      6848.38|        3721.06|\n",
      "|       2020|            56|POLICE DEPARTMENT|      NOLAN|   TIMOTHY|       J|       06/01/2009|            MANHATTAN|      PARALEGAL AIDE|                    ACTIVE|   46713.00|per Annum|         1820|          43827.30|       0|         0.00|        1750.78|\n",
      "|       2020|            56|POLICE DEPARTMENT|  MCCLELLAN|    JIASIA|       J|       12/16/2019|             BROOKLYN|TRAFFIC ENFORCEME...|                    ACTIVE|   41493.00|per Annum|          960|          18154.81|       3|        89.42|         178.11|\n",
      "+-----------+--------------+-----------------+-----------+----------+--------+-----------------+---------------------+--------------------+--------------------------+-----------+---------+-------------+------------------+--------+-------------+---------------+\n",
      "only showing top 10 rows\n",
      "\n"
     ]
    }
   ],
   "source": [
    "nycdf.sample(False, 0.0002, 999).show(10)"
   ]
  },
  {
   "cell_type": "code",
   "execution_count": 12,
   "id": "alleged-notice",
   "metadata": {},
   "outputs": [
    {
     "name": "stdout",
     "output_type": "stream",
     "text": [
      "root\n",
      " |-- Fiscal Year: string (nullable = true)\n",
      " |-- Payroll Number: string (nullable = true)\n",
      " |-- Agency Name: string (nullable = true)\n",
      " |-- Last Name: string (nullable = true)\n",
      " |-- First Name: string (nullable = true)\n",
      " |-- Mid Init: string (nullable = true)\n",
      " |-- Agency Start Date: date (nullable = true)\n",
      " |-- Work Location Borough: string (nullable = true)\n",
      " |-- Title Description: string (nullable = true)\n",
      " |-- Leave Status as of June 30: string (nullable = true)\n",
      " |-- Base Salary: float (nullable = true)\n",
      " |-- Pay Basis: string (nullable = true)\n",
      " |-- Regular Hours: integer (nullable = true)\n",
      " |-- Regular Gross Paid: float (nullable = true)\n",
      " |-- OT Hours: float (nullable = true)\n",
      " |-- Total OT Paid: float (nullable = true)\n",
      " |-- Total Other Pay: float (nullable = true)\n",
      "\n"
     ]
    }
   ],
   "source": [
    "nycdf = nycdf.withColumn('Agency Start Date', F.col('Agency Start Date').cast(DateType())) \\\n",
    "        .withColumn('Base Salary', F.col('Base Salary').cast(FloatType())) \\\n",
    "        .withColumn('Regular Hours', F.col('Regular Hours').cast(IntegerType())) \\\n",
    "        .withColumn('Regular Gross Paid', F.col('Regular Gross Paid').cast(FloatType())) \\\n",
    "        .withColumn('OT Hours', F.col('OT Hours').cast(FloatType())) \\\n",
    "        .withColumn('Total OT Paid', F.col('Total OT Paid').cast(FloatType())) \\\n",
    "        .withColumn('Total Other Pay', F.col('Total Other Pay').cast(FloatType()))\n",
    "\n",
    "nycdf.printSchema()"
   ]
  },
  {
   "cell_type": "code",
   "execution_count": 13,
   "id": "german-differential",
   "metadata": {},
   "outputs": [
    {
     "name": "stdout",
     "output_type": "stream",
     "text": [
      "+------------+--------+-------------+----------------+----------------+--------------------+---------------+----------+---+--------------------+-----------+------------+-------------+---------+-----------------------------+-----------+------+---------+\n",
      "|  RECORD_NBR|PAY_YEAR|DEPARTMENT_NO|DEPARTMENT_TITLE|JOB_CLASS_PGRADE|           JOB_TITLE|EMPLOYMENT_TYPE|JOB_STATUS|MOU|           MOU_TITLE|REGULAR_PAY|OVERTIME_PAY|ALL_OTHER_PAY|TOTAL_PAY|CITY_RETIREMENT_CONTRIBUTIONS|BENEFIT_PAY|GENDER|ETHNICITY|\n",
      "+------------+--------+-------------+----------------+----------------+--------------------+---------------+----------+---+--------------------+-----------+------------+-------------+---------+-----------------------------+-----------+------+---------+\n",
      "|303532353731|    2016|           98| WATER AND POWER|          1539-5|            MGT ASST|      FULL_TIME|    ACTIVE|  4|ADMINISTRATIVE RE...|   79284.64|     3478.23|      1452.68| 84215.55|                      5233.00|   22763.98|FEMALE|    BLACK|\n",
      "|343538313531|    2016|           98| WATER AND POWER|          3836-5|   SR ELTL MCHC SUPV|      FULL_TIME|    ACTIVE|  B|SUPERVISORY BLUE ...|  136162.68|    82689.90|     19010.33|237862.91|                      8987.00|   19072.62|  MALE|CAUCASIAN|\n",
      "|  3439303036|    2016|           98| WATER AND POWER|          1924-5|          SECY LEGAL|      FULL_TIME|    ACTIVE|  7|       CLERICAL UNIT|   78935.98|        0.00|      3032.80| 81968.78|                      5210.00|   22763.98|  MALE| HISPANIC|\n",
      "|  3533303532|    2016|           98| WATER AND POWER|           965-1|        CONSTR PLMBR|      FULL_TIME|NOT_ACTIVE|  Z|          DAILY RATE|   83145.76|      128.79|     41026.63|124301.18|                         0.00|       0.00|  MALE| HISPANIC|\n",
      "|  3130383831|    2017|           38|            FIRE|          2112-3|     FIREFIGHTER III|      FULL_TIME|    ACTIVE| 23|FIREFIGHTERS AND ...|  104320.51|    84991.43|      4842.37|194154.31|                     48874.16|   16848.00|  MALE|    BLACK|\n",
      "|323534353833|    2017|           70|          POLICE|          3711-5|  EQUIPMENT MECHANIC|      FULL_TIME|NOT_ACTIVE| 14|   SERVICE AND CRAFT|   53990.40|     1443.56|       950.00| 56383.96|                     16013.55|   10392.54|  MALE| HISPANIC|\n",
      "|  3438333231|    2019|           66|       PERSONNEL|          9167-1|SENIOR PERSONNEL ...|      FULL_TIME|    ACTIVE| 00|     NON-REPRESENTED|  111777.94|        0.00|      2264.61|114042.55|                     33153.34|   16548.18|  MALE|CAUCASIAN|\n",
      "|343533363833|    2017|           14|      CITY CLERK|          0729-0|ELECTION ASSISTAN...|      PART_TIME|NOT_ACTIVE| 00|     NON-REPRESENTED|     229.50|        0.00|         0.00|   229.50|                         0.00|       0.00|  MALE|    OTHER|\n",
      "|343835303233|    2017|           94|  TRANSPORTATION|          7280-2|TRANSPORTATION EN...|      FULL_TIME|    ACTIVE| 08|PROFESSIONAL ENGI...|  105040.00|    14013.78|       207.14|119260.92|                     31154.86|   17550.00|  MALE| HISPANIC|\n",
      "|  3630303137|    2017|           70|          POLICE|          2214-3|  POLICE OFFICER III|      FULL_TIME|NOT_ACTIVE| 24|POLICE OFFICERS, ...|  109705.12|     1330.55|      1376.20|112411.87|                     51396.85|   15515.38|  MALE| HISPANIC|\n",
      "+------------+--------+-------------+----------------+----------------+--------------------+---------------+----------+---+--------------------+-----------+------------+-------------+---------+-----------------------------+-----------+------+---------+\n",
      "only showing top 10 rows\n",
      "\n"
     ]
    }
   ],
   "source": [
    "ladf.sample(False, 0.0002, 999).show(10)"
   ]
  },
  {
   "cell_type": "code",
   "execution_count": 15,
   "id": "permanent-grocery",
   "metadata": {},
   "outputs": [
    {
     "name": "stdout",
     "output_type": "stream",
     "text": [
      "root\n",
      " |-- RECORD_NBR: string (nullable = true)\n",
      " |-- PAY_YEAR: string (nullable = true)\n",
      " |-- DEPARTMENT_NO: string (nullable = true)\n",
      " |-- DEPARTMENT_TITLE: string (nullable = true)\n",
      " |-- JOB_CLASS_PGRADE: string (nullable = true)\n",
      " |-- JOB_TITLE: string (nullable = true)\n",
      " |-- EMPLOYMENT_TYPE: string (nullable = true)\n",
      " |-- JOB_STATUS: string (nullable = true)\n",
      " |-- MOU: string (nullable = true)\n",
      " |-- MOU_TITLE: string (nullable = true)\n",
      " |-- REGULAR_PAY: float (nullable = true)\n",
      " |-- OVERTIME_PAY: float (nullable = true)\n",
      " |-- ALL_OTHER_PAY: float (nullable = true)\n",
      " |-- TOTAL_PAY: float (nullable = true)\n",
      " |-- CITY_RETIREMENT_CONTRIBUTIONS: float (nullable = true)\n",
      " |-- BENEFIT_PAY: float (nullable = true)\n",
      " |-- GENDER: string (nullable = true)\n",
      " |-- ETHNICITY: string (nullable = true)\n",
      "\n"
     ]
    }
   ],
   "source": [
    "ladf = ladf.withColumn('REGULAR_PAY', F.col('REGULAR_PAY').cast(FloatType())) \\\n",
    "        .withColumn('OVERTIME_PAY', F.col('OVERTIME_PAY').cast(FloatType())) \\\n",
    "        .withColumn('ALL_OTHER_PAY', F.col('ALL_OTHER_PAY').cast(FloatType())) \\\n",
    "        .withColumn('TOTAL_PAY', F.col('TOTAL_PAY').cast(FloatType())) \\\n",
    "        .withColumn('CITY_RETIREMENT_CONTRIBUTIONS', F.col('CITY_RETIREMENT_CONTRIBUTIONS').cast(FloatType())) \\\n",
    "        .withColumn('BENEFIT_PAY', F.col('BENEFIT_PAY').cast(FloatType()))\n",
    "\n",
    "ladf.printSchema()"
   ]
  },
  {
   "cell_type": "code",
   "execution_count": null,
   "id": "domestic-display",
   "metadata": {},
   "outputs": [],
   "source": []
  }
 ],
 "metadata": {
  "kernelspec": {
   "display_name": "Python 3",
   "language": "python",
   "name": "python3"
  },
  "language_info": {
   "codemirror_mode": {
    "name": "ipython",
    "version": 3
   },
   "file_extension": ".py",
   "mimetype": "text/x-python",
   "name": "python",
   "nbconvert_exporter": "python",
   "pygments_lexer": "ipython3",
   "version": "3.8.8"
  }
 },
 "nbformat": 4,
 "nbformat_minor": 5
}
