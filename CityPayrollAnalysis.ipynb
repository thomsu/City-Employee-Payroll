{
 "cells": [
  {
   "cell_type": "code",
   "execution_count": 1,
   "id": "curious-toilet",
   "metadata": {},
   "outputs": [],
   "source": [
    "from pyspark.sql import SparkSession\n",
    "from pyspark.conf import SparkConf\n",
    "from pyspark.sql.types import DateType, StringType, FloatType, IntegerType\n",
    "from pyspark.sql.window import Window\n",
    "import pyspark.sql.functions as F"
   ]
  },
  {
   "cell_type": "code",
   "execution_count": 2,
   "id": "constant-implementation",
   "metadata": {},
   "outputs": [],
   "source": [
    "spark = SparkSession.builder \\\n",
    "    .master(\"local[*]\") \\\n",
    "    .appName(\"PySpark City Payroll Analysis\") \\\n",
    "    .config(\"spark.driver.memory\", \"2g\") \\\n",
    "    .config(\"spark.executor.memory\", \"2g\") \\\n",
    "    .getOrCreate()"
   ]
  },
  {
   "cell_type": "code",
   "execution_count": 3,
   "id": "unknown-baltimore",
   "metadata": {},
   "outputs": [],
   "source": [
    "nycdf = spark.read.option(\"header\",True).csv(\"City_Employee_Payroll_New_York_City.csv\")\n",
    "ladf = spark.read.option(\"header\",True).csv(\"City_Employee_Payroll_Los_Angeles.csv\")"
   ]
  },
  {
   "cell_type": "code",
   "execution_count": 4,
   "id": "reverse-argument",
   "metadata": {},
   "outputs": [
    {
     "name": "stdout",
     "output_type": "stream",
     "text": [
      "root\n",
      " |-- Fiscal Year: string (nullable = true)\n",
      " |-- Payroll Number: string (nullable = true)\n",
      " |-- Agency Name: string (nullable = true)\n",
      " |-- Last Name: string (nullable = true)\n",
      " |-- First Name: string (nullable = true)\n",
      " |-- Mid Init: string (nullable = true)\n",
      " |-- Agency Start Date: string (nullable = true)\n",
      " |-- Work Location Borough: string (nullable = true)\n",
      " |-- Title Description: string (nullable = true)\n",
      " |-- Leave Status as of June 30: string (nullable = true)\n",
      " |-- Base Salary: string (nullable = true)\n",
      " |-- Pay Basis: string (nullable = true)\n",
      " |-- Regular Hours: string (nullable = true)\n",
      " |-- Regular Gross Paid: string (nullable = true)\n",
      " |-- OT Hours: string (nullable = true)\n",
      " |-- Total OT Paid: string (nullable = true)\n",
      " |-- Total Other Pay: string (nullable = true)\n",
      "\n"
     ]
    }
   ],
   "source": [
    "nycdf.printSchema()"
   ]
  },
  {
   "cell_type": "code",
   "execution_count": 5,
   "id": "rural-promise",
   "metadata": {},
   "outputs": [
    {
     "name": "stdout",
     "output_type": "stream",
     "text": [
      "root\n",
      " |-- RECORD_NBR: string (nullable = true)\n",
      " |-- PAY_YEAR: string (nullable = true)\n",
      " |-- DEPARTMENT_NO: string (nullable = true)\n",
      " |-- DEPARTMENT_TITLE: string (nullable = true)\n",
      " |-- JOB_CLASS_PGRADE: string (nullable = true)\n",
      " |-- JOB_TITLE: string (nullable = true)\n",
      " |-- EMPLOYMENT_TYPE: string (nullable = true)\n",
      " |-- JOB_STATUS: string (nullable = true)\n",
      " |-- MOU: string (nullable = true)\n",
      " |-- MOU_TITLE: string (nullable = true)\n",
      " |-- REGULAR_PAY: string (nullable = true)\n",
      " |-- OVERTIME_PAY: string (nullable = true)\n",
      " |-- ALL_OTHER_PAY: string (nullable = true)\n",
      " |-- TOTAL_PAY: string (nullable = true)\n",
      " |-- CITY_RETIREMENT_CONTRIBUTIONS: string (nullable = true)\n",
      " |-- BENEFIT_PAY: string (nullable = true)\n",
      " |-- GENDER: string (nullable = true)\n",
      " |-- ETHNICITY: string (nullable = true)\n",
      "\n"
     ]
    }
   ],
   "source": [
    "ladf.printSchema()"
   ]
  },
  {
   "cell_type": "code",
   "execution_count": 6,
   "id": "tribal-champion",
   "metadata": {},
   "outputs": [
    {
     "name": "stdout",
     "output_type": "stream",
     "text": [
      "+-----------+--------------+-----------------+-----------+----------+--------+-----------------+---------------------+--------------------+--------------------------+-----------+---------+-------------+------------------+--------+-------------+---------------+\n",
      "|Fiscal Year|Payroll Number|      Agency Name|  Last Name|First Name|Mid Init|Agency Start Date|Work Location Borough|   Title Description|Leave Status as of June 30|Base Salary|Pay Basis|Regular Hours|Regular Gross Paid|OT Hours|Total OT Paid|Total Other Pay|\n",
      "+-----------+--------------+-----------------+-----------+----------+--------+-----------------+---------------------+--------------------+--------------------------+-----------+---------+-------------+------------------+--------+-------------+---------------+\n",
      "|       2020|            56|POLICE DEPARTMENT|     WALKER|     JAMAL|       H|       01/10/2005|             BROOKLYN|     P.O. DA DET GR3|                    ACTIVE|   96502.00|per Annum|         2080|          95892.38|  668.57|     36078.88|       16789.12|\n",
      "|       2020|            56|POLICE DEPARTMENT|     MOONEY|   PATRICK|       L|       07/22/2002|            MANHATTAN|     P.O. DA DET GR3|                    CEASED|   96502.00|per Annum|       1954.3|          90144.27|   334.5|     24379.71|       19967.38|\n",
      "|       2020|            56|POLICE DEPARTMENT|        LAU|   KAMYUEN|    null|       09/29/2000|               QUEENS|      POLICE OFFICER|                    ACTIVE|   85292.00|per Annum|         2080|          84831.14|     545|     31658.74|       17256.66|\n",
      "|       2020|            56|POLICE DEPARTMENT|       HOOP|     GAVIN|       S|       07/10/2006|                BRONX|           SERGEANT-|                    ACTIVE|  109360.00|per Annum|         2080|         108768.97|  132.83|      6715.62|       17245.51|\n",
      "|       2020|            56|POLICE DEPARTMENT|     AIELLO|   MATTHEW|       A|       01/09/2006|             RICHMOND|      POLICE OFFICER|                    ACTIVE|   85292.00|per Annum|         2080|          84831.14|  167.17|      8047.68|       14449.92|\n",
      "|       2020|            56|POLICE DEPARTMENT|  FERNANDEZ|     OSCAR|       R|       01/04/2017|                BRONX|      POLICE OFFICER|                    ACTIVE|   54394.00|per Annum|         2080|          53927.40|  264.22|      7213.76|        9461.92|\n",
      "|       2020|            56|POLICE DEPARTMENT|   MARTELLI|     DAVID|       M|       07/02/2018|               QUEENS|      POLICE OFFICER|                    ACTIVE|   45000.00|per Annum|         2080|          43438.28|  225.17|      4309.56|        6076.57|\n",
      "|       2020|            56|POLICE DEPARTMENT|SCANTLEBURY|      TONI|       E|       10/29/2018|             BROOKLYN|POLICE COMMUNICAT...|                    ACTIVE|   40636.00|per Annum|         1820|          39460.48|  245.75|      6848.38|        3721.06|\n",
      "|       2020|            56|POLICE DEPARTMENT|      NOLAN|   TIMOTHY|       J|       06/01/2009|            MANHATTAN|      PARALEGAL AIDE|                    ACTIVE|   46713.00|per Annum|         1820|          43827.30|       0|         0.00|        1750.78|\n",
      "|       2020|            56|POLICE DEPARTMENT|  MCCLELLAN|    JIASIA|       J|       12/16/2019|             BROOKLYN|TRAFFIC ENFORCEME...|                    ACTIVE|   41493.00|per Annum|          960|          18154.81|       3|        89.42|         178.11|\n",
      "+-----------+--------------+-----------------+-----------+----------+--------+-----------------+---------------------+--------------------+--------------------------+-----------+---------+-------------+------------------+--------+-------------+---------------+\n",
      "only showing top 10 rows\n",
      "\n"
     ]
    }
   ],
   "source": [
    "nycdf.sample(False, 0.0002, 999).show(10)"
   ]
  },
  {
   "cell_type": "code",
   "execution_count": 7,
   "id": "wooden-electron",
   "metadata": {},
   "outputs": [
    {
     "name": "stdout",
     "output_type": "stream",
     "text": [
      "There are 14 unique records that are duplicated.\n",
      "+-----------+--------------+--------------------+---------+----------+--------+-----------------+---------------------+--------------------+--------------------------+-----------+---------+-------------+------------------+--------+-------------+---------------+-----+\n",
      "|Fiscal Year|Payroll Number|         Agency Name|Last Name|First Name|Mid Init|Agency Start Date|Work Location Borough|   Title Description|Leave Status as of June 30|Base Salary|Pay Basis|Regular Hours|Regular Gross Paid|OT Hours|Total OT Paid|Total Other Pay|count|\n",
      "+-----------+--------------+--------------------+---------+----------+--------+-----------------+---------------------+--------------------+--------------------------+-----------+---------+-------------+------------------+--------+-------------+---------------+-----+\n",
      "|       2019|           903|DISTRICT ATTORNEY...|     null|      null|    null|       01/30/2019|             BROOKLYN|RACKETS INVESTIGA...|                    ACTIVE|   57824.00|per Annum|          824|          24544.67|      18|       747.72|         664.64|    4|\n",
      "|       2016|          null|DISTRICT ATTORNEY...|     null|      null|    null|       04/04/2016|               QUEENS|SENIOR RACKETS IN...|                    ACTIVE|   54047.00|per Annum|       508.57|          11336.85|       0|         0.00|           0.00|    3|\n",
      "|       2015|          null|BOARD OF ELECTION...| WILLIAMS|  JEANETTE|    null|       01/01/2010|            MANHATTAN|     ELECTION WORKER|                    ACTIVE|       1.00| per Hour|            0|            581.00|       0|         0.00|           0.00|    2|\n",
      "|       2015|          null|BOARD OF ELECTION...|RODRIGUEZ|      JOSE|       A|       01/01/2014|            MANHATTAN|     ELECTION WORKER|                    ACTIVE|       1.00| per Hour|            0|            575.00|       0|         0.00|           0.00|    2|\n",
      "|       2016|          null|BOARD OF ELECTION...|    JONES|   DELORES|    null|       01/01/2010|            MANHATTAN|     ELECTION WORKER|                    ACTIVE|       1.00| per Hour|            0|            780.00|       0|         0.00|           0.00|    2|\n",
      "|       2017|          null|DISTRICT ATTORNEY...|     null|      null|    null|       06/19/2017|               QUEENS|RACKETS INVESTIGATOR|                    ACTIVE|   45538.00|per Annum|           40|            873.33|       0|         0.00|           0.00|    2|\n",
      "|       2018|           906|DISTRICT ATTORNEY...|     null|      null|    null|       06/11/2018|            MANHATTAN|SENIOR RACKETS IN...|                    ACTIVE|   60000.00|per Annum|           80|           2301.37|       0|         0.00|           0.00|    2|\n",
      "|       2016|          null|DEPARTMENT OF SAN...| WILLIAMS|     DAVID|       J|       01/25/2016|            MANHATTAN|  CITY SEASONAL AIDE|                    ACTIVE|      13.50| per Hour|           16|            216.00|       0|         0.00|           0.00|    2|\n",
      "|       2016|          null|BOARD OF ELECTION...|RODRIGUEZ|     ERIKA|    null|       01/01/2010|            MANHATTAN|     ELECTION WORKER|                    ACTIVE|       1.00| per Hour|            0|            575.00|       0|         0.00|           0.00|    2|\n",
      "|       2016|          null|BOARD OF ELECTION...|    SMITH|  MICHELLE|    null|       01/01/2010|            MANHATTAN|     ELECTION WORKER|                    ACTIVE|       1.00| per Hour|            0|            575.00|       0|         0.00|           0.00|    2|\n",
      "|       2015|          null|BOARD OF ELECTION...|    BROWN|  BEATRICE|    null|       01/01/2010|            MANHATTAN|     ELECTION WORKER|                    ACTIVE|       1.00| per Hour|            0|            575.00|       0|         0.00|           0.00|    2|\n",
      "|       2017|          null|DISTRICT ATTORNEY...|     null|      null|    null|       10/20/2014|               QUEENS|SENIOR RACKETS IN...|                    ACTIVE|   59942.00|per Annum|      2051.43|          68776.45|       0|         0.00|           0.00|    2|\n",
      "|       2016|          null|BOARD OF ELECTION...|    BROWN|  BEATRICE|    null|       01/01/2010|            MANHATTAN|     ELECTION WORKER|                    ACTIVE|       1.00| per Hour|            0|            575.00|       0|         0.00|           0.00|    2|\n",
      "|       2016|          null|BOARD OF ELECTION...|ARMSTRONG|    SHARON|    null|       01/01/2015|            MANHATTAN|     ELECTION WORKER|                    ACTIVE|       1.00| per Hour|            0|            575.00|       0|         0.00|           0.00|    2|\n",
      "+-----------+--------------+--------------------+---------+----------+--------+-----------------+---------------------+--------------------+--------------------------+-----------+---------+-------------+------------------+--------+-------------+---------------+-----+\n",
      "\n"
     ]
    }
   ],
   "source": [
    "nycduplicated = nycdf.groupby(nycdf.columns).count().where('count > 1').sort('count', ascending=False)\n",
    "print(f'There are {nycduplicated.count()} unique records that are duplicated.')\n",
    "nycduplicated.show()"
   ]
  },
  {
   "cell_type": "code",
   "execution_count": 8,
   "id": "timely-thompson",
   "metadata": {},
   "outputs": [
    {
     "name": "stdout",
     "output_type": "stream",
     "text": [
      "root\n",
      " |-- Fiscal Year: string (nullable = true)\n",
      " |-- Payroll Number: string (nullable = true)\n",
      " |-- Agency Name: string (nullable = true)\n",
      " |-- Last Name: string (nullable = true)\n",
      " |-- First Name: string (nullable = true)\n",
      " |-- Mid Init: string (nullable = true)\n",
      " |-- Agency Start Date: date (nullable = true)\n",
      " |-- Work Location Borough: string (nullable = true)\n",
      " |-- Title Description: string (nullable = true)\n",
      " |-- Leave Status as of June 30: string (nullable = true)\n",
      " |-- Base Salary: float (nullable = true)\n",
      " |-- Pay Basis: string (nullable = true)\n",
      " |-- Regular Hours: integer (nullable = true)\n",
      " |-- Regular Gross Paid: float (nullable = true)\n",
      " |-- OT Hours: float (nullable = true)\n",
      " |-- Total OT Paid: float (nullable = true)\n",
      " |-- Total Other Pay: float (nullable = true)\n",
      " |-- Row Index: long (nullable = false)\n",
      "\n"
     ]
    }
   ],
   "source": [
    "nycdf = nycdf.distinct()\n",
    "nycdf = nycdf.withColumn('Agency Start Date', F.col('Agency Start Date').cast(DateType())) \\\n",
    "        .withColumn('Base Salary', F.col('Base Salary').cast(FloatType())) \\\n",
    "        .withColumn('Regular Hours', F.col('Regular Hours').cast(IntegerType())) \\\n",
    "        .withColumn('Regular Gross Paid', F.col('Regular Gross Paid').cast(FloatType())) \\\n",
    "        .withColumn('OT Hours', F.col('OT Hours').cast(FloatType())) \\\n",
    "        .withColumn('Total OT Paid', F.col('Total OT Paid').cast(FloatType())) \\\n",
    "        .withColumn('Total Other Pay', F.col('Total Other Pay').cast(FloatType())) \\\n",
    "        .withColumn(\"Row Index\", F.monotonically_increasing_id())\n",
    "\n",
    "nycdf.printSchema()"
   ]
  },
  {
   "cell_type": "code",
   "execution_count": 9,
   "id": "charged-blank",
   "metadata": {},
   "outputs": [
    {
     "name": "stdout",
     "output_type": "stream",
     "text": [
      "+------------+--------+-------------+----------------+----------------+--------------------+---------------+----------+---+--------------------+-----------+------------+-------------+---------+-----------------------------+-----------+------+---------+\n",
      "|  RECORD_NBR|PAY_YEAR|DEPARTMENT_NO|DEPARTMENT_TITLE|JOB_CLASS_PGRADE|           JOB_TITLE|EMPLOYMENT_TYPE|JOB_STATUS|MOU|           MOU_TITLE|REGULAR_PAY|OVERTIME_PAY|ALL_OTHER_PAY|TOTAL_PAY|CITY_RETIREMENT_CONTRIBUTIONS|BENEFIT_PAY|GENDER|ETHNICITY|\n",
      "+------------+--------+-------------+----------------+----------------+--------------------+---------------+----------+---+--------------------+-----------+------------+-------------+---------+-----------------------------+-----------+------+---------+\n",
      "|303532353731|    2016|           98| WATER AND POWER|          1539-5|            MGT ASST|      FULL_TIME|    ACTIVE|  4|ADMINISTRATIVE RE...|   79284.64|     3478.23|      1452.68| 84215.55|                      5233.00|   22763.98|FEMALE|    BLACK|\n",
      "|343538313531|    2016|           98| WATER AND POWER|          3836-5|   SR ELTL MCHC SUPV|      FULL_TIME|    ACTIVE|  B|SUPERVISORY BLUE ...|  136162.68|    82689.90|     19010.33|237862.91|                      8987.00|   19072.62|  MALE|CAUCASIAN|\n",
      "|  3439303036|    2016|           98| WATER AND POWER|          1924-5|          SECY LEGAL|      FULL_TIME|    ACTIVE|  7|       CLERICAL UNIT|   78935.98|        0.00|      3032.80| 81968.78|                      5210.00|   22763.98|  MALE| HISPANIC|\n",
      "|  3533303532|    2016|           98| WATER AND POWER|           965-1|        CONSTR PLMBR|      FULL_TIME|NOT_ACTIVE|  Z|          DAILY RATE|   83145.76|      128.79|     41026.63|124301.18|                         0.00|       0.00|  MALE| HISPANIC|\n",
      "|  3130383831|    2017|           38|            FIRE|          2112-3|     FIREFIGHTER III|      FULL_TIME|    ACTIVE| 23|FIREFIGHTERS AND ...|  104320.51|    84991.43|      4842.37|194154.31|                     48874.16|   16848.00|  MALE|    BLACK|\n",
      "|323534353833|    2017|           70|          POLICE|          3711-5|  EQUIPMENT MECHANIC|      FULL_TIME|NOT_ACTIVE| 14|   SERVICE AND CRAFT|   53990.40|     1443.56|       950.00| 56383.96|                     16013.55|   10392.54|  MALE| HISPANIC|\n",
      "|  3438333231|    2019|           66|       PERSONNEL|          9167-1|SENIOR PERSONNEL ...|      FULL_TIME|    ACTIVE| 00|     NON-REPRESENTED|  111777.94|        0.00|      2264.61|114042.55|                     33153.34|   16548.18|  MALE|CAUCASIAN|\n",
      "|343533363833|    2017|           14|      CITY CLERK|          0729-0|ELECTION ASSISTAN...|      PART_TIME|NOT_ACTIVE| 00|     NON-REPRESENTED|     229.50|        0.00|         0.00|   229.50|                         0.00|       0.00|  MALE|    OTHER|\n",
      "|343835303233|    2017|           94|  TRANSPORTATION|          7280-2|TRANSPORTATION EN...|      FULL_TIME|    ACTIVE| 08|PROFESSIONAL ENGI...|  105040.00|    14013.78|       207.14|119260.92|                     31154.86|   17550.00|  MALE| HISPANIC|\n",
      "|  3630303137|    2017|           70|          POLICE|          2214-3|  POLICE OFFICER III|      FULL_TIME|NOT_ACTIVE| 24|POLICE OFFICERS, ...|  109705.12|     1330.55|      1376.20|112411.87|                     51396.85|   15515.38|  MALE| HISPANIC|\n",
      "+------------+--------+-------------+----------------+----------------+--------------------+---------------+----------+---+--------------------+-----------+------------+-------------+---------+-----------------------------+-----------+------+---------+\n",
      "only showing top 10 rows\n",
      "\n"
     ]
    }
   ],
   "source": [
    "ladf.sample(False, 0.0002, 999).show(10)"
   ]
  },
  {
   "cell_type": "code",
   "execution_count": 10,
   "id": "traditional-chester",
   "metadata": {},
   "outputs": [
    {
     "name": "stdout",
     "output_type": "stream",
     "text": [
      "There are 0 unique records that are duplicated.\n",
      "+----------+--------+-------------+----------------+----------------+---------+---------------+----------+---+---------+-----------+------------+-------------+---------+-----------------------------+-----------+------+---------+-----+\n",
      "|RECORD_NBR|PAY_YEAR|DEPARTMENT_NO|DEPARTMENT_TITLE|JOB_CLASS_PGRADE|JOB_TITLE|EMPLOYMENT_TYPE|JOB_STATUS|MOU|MOU_TITLE|REGULAR_PAY|OVERTIME_PAY|ALL_OTHER_PAY|TOTAL_PAY|CITY_RETIREMENT_CONTRIBUTIONS|BENEFIT_PAY|GENDER|ETHNICITY|count|\n",
      "+----------+--------+-------------+----------------+----------------+---------+---------------+----------+---+---------+-----------+------------+-------------+---------+-----------------------------+-----------+------+---------+-----+\n",
      "+----------+--------+-------------+----------------+----------------+---------+---------------+----------+---+---------+-----------+------------+-------------+---------+-----------------------------+-----------+------+---------+-----+\n",
      "\n"
     ]
    }
   ],
   "source": [
    "laduplicated = ladf.groupby(ladf.columns).count().where('count > 1').sort('count', ascending=False)\n",
    "print(f'There are {laduplicated.count()} unique records that are duplicated.')\n",
    "laduplicated.show()"
   ]
  },
  {
   "cell_type": "code",
   "execution_count": 11,
   "id": "wound-throw",
   "metadata": {},
   "outputs": [
    {
     "name": "stdout",
     "output_type": "stream",
     "text": [
      "root\n",
      " |-- RECORD_NBR: string (nullable = true)\n",
      " |-- PAY_YEAR: string (nullable = true)\n",
      " |-- DEPARTMENT_NO: string (nullable = true)\n",
      " |-- DEPARTMENT_TITLE: string (nullable = true)\n",
      " |-- JOB_CLASS_PGRADE: string (nullable = true)\n",
      " |-- JOB_TITLE: string (nullable = true)\n",
      " |-- EMPLOYMENT_TYPE: string (nullable = true)\n",
      " |-- JOB_STATUS: string (nullable = true)\n",
      " |-- MOU: string (nullable = true)\n",
      " |-- MOU_TITLE: string (nullable = true)\n",
      " |-- REGULAR_PAY: float (nullable = true)\n",
      " |-- OVERTIME_PAY: float (nullable = true)\n",
      " |-- ALL_OTHER_PAY: float (nullable = true)\n",
      " |-- TOTAL_PAY: float (nullable = true)\n",
      " |-- CITY_RETIREMENT_CONTRIBUTIONS: float (nullable = true)\n",
      " |-- BENEFIT_PAY: float (nullable = true)\n",
      " |-- GENDER: string (nullable = true)\n",
      " |-- ETHNICITY: string (nullable = true)\n",
      "\n"
     ]
    }
   ],
   "source": [
    "ladf = ladf.withColumn('REGULAR_PAY', F.col('REGULAR_PAY').cast(FloatType())) \\\n",
    "        .withColumn('OVERTIME_PAY', F.col('OVERTIME_PAY').cast(FloatType())) \\\n",
    "        .withColumn('ALL_OTHER_PAY', F.col('ALL_OTHER_PAY').cast(FloatType())) \\\n",
    "        .withColumn('TOTAL_PAY', F.col('TOTAL_PAY').cast(FloatType())) \\\n",
    "        .withColumn('CITY_RETIREMENT_CONTRIBUTIONS', F.col('CITY_RETIREMENT_CONTRIBUTIONS').cast(FloatType())) \\\n",
    "        .withColumn('BENEFIT_PAY', F.col('BENEFIT_PAY').cast(FloatType()))\n",
    "\n",
    "ladf.printSchema()"
   ]
  },
  {
   "cell_type": "code",
   "execution_count": 12,
   "id": "composite-elimination",
   "metadata": {
    "scrolled": true
   },
   "outputs": [
    {
     "name": "stdout",
     "output_type": "stream",
     "text": [
      "There are a total of 165 different agencies in New York City Government.\n",
      "+------------------------------+\n",
      "|Agency                        |\n",
      "+------------------------------+\n",
      "|ADMIN FOR CHILDREN'S SVCS     |\n",
      "|ADMIN TRIALS AND HEARINGS     |\n",
      "|BOARD OF CORRECTION           |\n",
      "|BOARD OF CORRECTIONS          |\n",
      "|BOARD OF ELECTION             |\n",
      "|BOARD OF ELECTION POLL WORKERS|\n",
      "|BOROUGH PRESIDENT-BRONX       |\n",
      "|BOROUGH PRESIDENT-BROOKLYN    |\n",
      "|BOROUGH PRESIDENT-QUEENS      |\n",
      "|BOROUGH PRESIDENT-STATEN IS   |\n",
      "|BRONX COMMUNITY BOARD #1      |\n",
      "|BRONX COMMUNITY BOARD #10     |\n",
      "|BRONX COMMUNITY BOARD #11     |\n",
      "|BRONX COMMUNITY BOARD #12     |\n",
      "|BRONX COMMUNITY BOARD #2      |\n",
      "|BRONX COMMUNITY BOARD #3      |\n",
      "|BRONX COMMUNITY BOARD #4      |\n",
      "|BRONX COMMUNITY BOARD #5      |\n",
      "|BRONX COMMUNITY BOARD #6      |\n",
      "|BRONX COMMUNITY BOARD #7      |\n",
      "|BRONX COMMUNITY BOARD #8      |\n",
      "|BRONX COMMUNITY BOARD #9      |\n",
      "|BRONX DISTRICT ATTORNEY       |\n",
      "|BROOKLYN COMMUNITY BOARD #1   |\n",
      "|BROOKLYN COMMUNITY BOARD #10  |\n",
      "|BROOKLYN COMMUNITY BOARD #11  |\n",
      "|BROOKLYN COMMUNITY BOARD #12  |\n",
      "|BROOKLYN COMMUNITY BOARD #13  |\n",
      "|BROOKLYN COMMUNITY BOARD #14  |\n",
      "|BROOKLYN COMMUNITY BOARD #15  |\n",
      "|BROOKLYN COMMUNITY BOARD #16  |\n",
      "|BROOKLYN COMMUNITY BOARD #17  |\n",
      "|BROOKLYN COMMUNITY BOARD #18  |\n",
      "|BROOKLYN COMMUNITY BOARD #2   |\n",
      "|BROOKLYN COMMUNITY BOARD #3   |\n",
      "|BROOKLYN COMMUNITY BOARD #4   |\n",
      "|BROOKLYN COMMUNITY BOARD #5   |\n",
      "|BROOKLYN COMMUNITY BOARD #6   |\n",
      "|BROOKLYN COMMUNITY BOARD #7   |\n",
      "|BROOKLYN COMMUNITY BOARD #8   |\n",
      "|BROOKLYN COMMUNITY BOARD #9   |\n",
      "|BUSINESS INTEGRITY COMMISSION |\n",
      "|Bronx DA                      |\n",
      "|CAMPAIGN FINANCE BOARD        |\n",
      "|CITY CLERK                    |\n",
      "|CITY COUNCIL                  |\n",
      "|CIVIL SERVICE COMMISSION      |\n",
      "|CIVILIAN COMPLAINT REVIEW BD  |\n",
      "|COMMUNITY COLLEGE (BRONX)     |\n",
      "|COMMUNITY COLLEGE (HOSTOS)    |\n",
      "|COMMUNITY COLLEGE (KINGSBORO) |\n",
      "|COMMUNITY COLLEGE (LAGUARDIA) |\n",
      "|COMMUNITY COLLEGE (MANHATTAN) |\n",
      "|COMMUNITY COLLEGE (QUEENSBORO)|\n",
      "|CONFLICTS OF INTEREST BOARD   |\n",
      "|CONSUMER AFFAIRS              |\n",
      "|CULTURAL AFFAIRS              |\n",
      "|CUNY CENTRAL OFFICE           |\n",
      "|DEPARTMENT FOR THE AGING      |\n",
      "|DEPARTMENT OF BUILDINGS       |\n",
      "|DEPARTMENT OF BUSINESS SERV.  |\n",
      "|DEPARTMENT OF CITY PLANNING   |\n",
      "|DEPARTMENT OF CORRECTION      |\n",
      "|DEPARTMENT OF EDUCATION ADMIN |\n",
      "|DEPARTMENT OF FINANCE         |\n",
      "|DEPARTMENT OF INVESTIGATION   |\n",
      "|DEPARTMENT OF JUVENILE JUSTICE|\n",
      "|DEPARTMENT OF PROBATION       |\n",
      "|DEPARTMENT OF SANITATION      |\n",
      "|DEPARTMENT OF TRANSPORTATION  |\n",
      "|DEPT OF CITYWIDE ADMIN SVCS   |\n",
      "|DEPT OF ED HRLY SUPPORT STAFF |\n",
      "|DEPT OF ED PARA PROFESSIONALS |\n",
      "|DEPT OF ED PEDAGOGICAL        |\n",
      "|DEPT OF ED PER DIEM TEACHERS  |\n",
      "|DEPT OF ED PER SESSION TEACHER|\n",
      "|DEPT OF ENVIRONMENT PROTECTION|\n",
      "|DEPT OF HEALTH/MENTAL HYGIENE |\n",
      "|DEPT OF INFO TECH & TELECOMM  |\n",
      "|DEPT OF PARKS & RECREATION    |\n",
      "|DEPT OF RECORDS & INFO SERVICE|\n",
      "|DEPT OF YOUTH & COMM DEV SRVS |\n",
      "|DEPT. OF DESIGN & CONSTRUCTION|\n",
      "|DEPT. OF HOMELESS SERVICES    |\n",
      "|DISTRICT ATTORNEY KINGS COUNTY|\n",
      "|DISTRICT ATTORNEY QNS COUNTY  |\n",
      "|DISTRICT ATTORNEY RICHMOND COU|\n",
      "|DISTRICT ATTORNEY-MANHATTAN   |\n",
      "|DISTRICT ATTORNEY-SPECIAL NARC|\n",
      "|DISTRICTING COMMISSION        |\n",
      "|DOE CUSTODIAL PAYROL          |\n",
      "|EQUAL EMPLOY PRACTICES COMM   |\n",
      "|FINANCIAL INFO SVCS AGENCY    |\n",
      "|FIRE DEPARTMENT               |\n",
      "|GUTTMAN COMMUNITY COLLEGE     |\n",
      "|HOUSING PRESERVATION & DVLPMNT|\n",
      "|HRA/DEPT OF SOCIAL SERVICES   |\n",
      "|HUMAN RIGHTS COMMISSION       |\n",
      "|HUNTER COLLEGE HIGH SCHOOL    |\n",
      "|INDEPENDENT BUDGET OFFICE     |\n",
      "|Kings DA                      |\n",
      "|LANDMARKS PRESERVATION COMM   |\n",
      "|LAW DEPARTMENT                |\n",
      "|MANHATTAN COMMUNITY BOARD #1  |\n",
      "|MANHATTAN COMMUNITY BOARD #10 |\n",
      "|MANHATTAN COMMUNITY BOARD #11 |\n",
      "|MANHATTAN COMMUNITY BOARD #12 |\n",
      "|MANHATTAN COMMUNITY BOARD #2  |\n",
      "|MANHATTAN COMMUNITY BOARD #3  |\n",
      "|MANHATTAN COMMUNITY BOARD #4  |\n",
      "|MANHATTAN COMMUNITY BOARD #5  |\n",
      "|MANHATTAN COMMUNITY BOARD #6  |\n",
      "|MANHATTAN COMMUNITY BOARD #7  |\n",
      "|MANHATTAN COMMUNITY BOARD #8  |\n",
      "|MANHATTAN COMMUNITY BOARD #9  |\n",
      "|MAYORS OFFICE OF CONTRACT SVCS|\n",
      "|MUNICIPAL WATER FIN AUTHORITY |\n",
      "|Manhattan DA                  |\n",
      "|NYC DEPT OF VETERANS' SERVICES|\n",
      "|NYC EMPLOYEES RETIREMENT SYS  |\n",
      "|NYC FIRE PENSION FUND         |\n",
      "|NYC HOUSING AUTHORITY         |\n",
      "|NYC POLICE PENSION FUND       |\n",
      "|OFF OF PAYROLL ADMINISTRATION |\n",
      "|OFFICE OF COLLECTIVE BARGAININ|\n",
      "|OFFICE OF EMERGENCY MANAGEMENT|\n",
      "|OFFICE OF LABOR RELATIONS     |\n",
      "|OFFICE OF MANAGEMENT & BUDGET |\n",
      "|OFFICE OF THE ACTUARY         |\n",
      "|OFFICE OF THE COMPTROLLER     |\n",
      "|OFFICE OF THE MAYOR           |\n",
      "|PERSONNEL MONITORS            |\n",
      "|POLICE DEPARTMENT             |\n",
      "|PRESIDENT BOROUGH OF MANHATTAN|\n",
      "|PUBLIC ADMINISTRATOR-BRONX    |\n",
      "|PUBLIC ADMINISTRATOR-KINGS    |\n",
      "|PUBLIC ADMINISTRATOR-NEW YORK |\n",
      "|PUBLIC ADMINISTRATOR-QUEENS   |\n",
      "|PUBLIC ADMINISTRATOR-RICHMOND |\n",
      "|PUBLIC ADVOCATE               |\n",
      "|PUBLIC SERVICE CORPS          |\n",
      "|Police Department             |\n",
      "|QUEENS COMMUNITY BOARD #1     |\n",
      "|QUEENS COMMUNITY BOARD #10    |\n",
      "|QUEENS COMMUNITY BOARD #11    |\n",
      "|QUEENS COMMUNITY BOARD #12    |\n",
      "|QUEENS COMMUNITY BOARD #13    |\n",
      "|QUEENS COMMUNITY BOARD #14    |\n",
      "|QUEENS COMMUNITY BOARD #2     |\n",
      "|QUEENS COMMUNITY BOARD #3     |\n",
      "|QUEENS COMMUNITY BOARD #4     |\n",
      "|QUEENS COMMUNITY BOARD #5     |\n",
      "|QUEENS COMMUNITY BOARD #6     |\n",
      "|QUEENS COMMUNITY BOARD #7     |\n",
      "|QUEENS COMMUNITY BOARD #8     |\n",
      "|QUEENS COMMUNITY BOARD #9     |\n",
      "|Queens DA                     |\n",
      "|Richmond DA                   |\n",
      "|STATEN ISLAND COMMUNITY BD #1 |\n",
      "|STATEN ISLAND COMMUNITY BD #2 |\n",
      "|STATEN ISLAND COMMUNITY BD #3 |\n",
      "|Spec Narcs-DA                 |\n",
      "|TAX COMMISSION                |\n",
      "|TAXI & LIMOUSINE COMMISSION   |\n",
      "|TEACHERS RETIREMENT SYSTEM    |\n",
      "+------------------------------+\n",
      "\n"
     ]
    }
   ],
   "source": [
    "nycdf.createOrReplaceTempView(\"nycpayroll\")\n",
    "tab1 = spark.sql(\"SELECT DISTINCT `Agency Name` AS Agency FROM nycpayroll ORDER BY Agency\")\n",
    "print(f\"There are a total of {tab1.count()} different agencies in New York City Government.\")\n",
    "tab1.show(tab1.count(), truncate=False)"
   ]
  },
  {
   "cell_type": "code",
   "execution_count": 13,
   "id": "flexible-thriller",
   "metadata": {},
   "outputs": [
    {
     "name": "stdout",
     "output_type": "stream",
     "text": [
      "+----+---------------------+\n",
      "|Year|TotalPay             |\n",
      "+----+---------------------+\n",
      "|2020|3.0418574408038723E10|\n",
      "|2019|2.9516889519514572E10|\n",
      "|2018|2.754931705163799E10 |\n",
      "|2017|2.71458727757124E10  |\n",
      "|2016|2.551809716312446E10 |\n",
      "|2015|2.4334088182743454E10|\n",
      "|2014|2.286248314362995E10 |\n",
      "+----+---------------------+\n",
      "\n"
     ]
    }
   ],
   "source": [
    "tab2 = spark.sql(\"\"\"SELECT `Fiscal Year` AS Year,\n",
    "                    SUM(`Regular Gross Paid` + `Total OT Paid` + `Total Other Pay`) AS TotalPay\n",
    "                    FROM nycpayroll\n",
    "                    GROUP BY Year\n",
    "                    ORDER BY TotalPay DESC\n",
    "        \"\"\")\n",
    "\n",
    "tab2.show(truncate=False)"
   ]
  },
  {
   "cell_type": "code",
   "execution_count": 14,
   "id": "sunrise-burden",
   "metadata": {},
   "outputs": [
    {
     "name": "stdout",
     "output_type": "stream",
     "text": [
      "+------------------------------+--------------------+-----------------+------------------+\n",
      "|Agency                        |TotalPay            |NumberOfEmployees|AveragePayOfAgency|\n",
      "+------------------------------+--------------------+-----------------+------------------+\n",
      "|DEPT OF ED PEDAGOGICAL        |9.971256719987915E9 |114999           |86707.33          |\n",
      "|POLICE DEPARTMENT             |5.356858772763836E9 |60316            |88813.23          |\n",
      "|FIRE DEPARTMENT               |1.8644133478075857E9|19193            |97140.28          |\n",
      "|DEPT OF ED PARA PROFESSIONALS |1.2480015119021907E9|41353            |30179.23          |\n",
      "|DEPARTMENT OF CORRECTION      |1.0949519880879471E9|12723            |86060.83          |\n",
      "|DEPARTMENT OF EDUCATION ADMIN |1.0548904804637426E9|17869            |59034.67          |\n",
      "|DEPARTMENT OF SANITATION      |1.0275529499124413E9|11787            |87176.8           |\n",
      "|NYC HOUSING AUTHORITY         |8.617265504048588E8 |13978            |61648.77          |\n",
      "|HRA/DEPT OF SOCIAL SERVICES   |8.278528244715536E8 |14547            |56908.84          |\n",
      "|DEPT OF ENVIRONMENT PROTECTION|6.015208329669925E8 |7295             |82456.59          |\n",
      "|DEPT OF HEALTH/MENTAL HYGIENE |5.54613627142681E8  |8301             |66812.87          |\n",
      "|ADMIN FOR CHILDREN'S SVCS     |5.527218076526523E8 |8634             |64016.89          |\n",
      "|DEPARTMENT OF TRANSPORTATION  |5.342477675511919E8 |6683             |79941.31          |\n",
      "|DEPT OF PARKS & RECREATION    |4.400740449362645E8 |14008            |31415.91          |\n",
      "|DEPT OF ED HRLY SUPPORT STAFF |4.339663492123003E8 |21373            |20304.42          |\n",
      "|DEPT OF ED PER SESSION TEACHER|3.2135007643939257E8|105717           |3039.72           |\n",
      "|DEPT OF CITYWIDE ADMIN SVCS   |2.1707229305472207E8|3014             |72021.33          |\n",
      "|HOUSING PRESERVATION & DVLPMNT|1.8585725322133914E8|2853             |65144.5           |\n",
      "|DEPARTMENT OF FINANCE         |1.7572537366005135E8|2445             |71871.32          |\n",
      "|DEPT. OF HOMELESS SERVICES    |1.620756650103343E8 |3006             |53917.39          |\n",
      "|LAW DEPARTMENT                |1.608058363269558E8 |2244             |71660.35          |\n",
      "|COMMUNITY COLLEGE (MANHATTAN) |1.5987153212006485E8|6539             |24448.93          |\n",
      "|DEPT OF INFO TECH & TELECOMM  |1.581204514333458E8 |1941             |81463.4           |\n",
      "|DEPT OF ED PER DIEM TEACHERS  |1.5139730344249535E8|11323            |13370.78          |\n",
      "|DEPARTMENT OF BUILDINGS       |1.4115959984891987E8|2143             |65870.09          |\n",
      "+------------------------------+--------------------+-----------------+------------------+\n",
      "\n"
     ]
    }
   ],
   "source": [
    "tab3 = spark.sql(\"\"\"SELECT *, ROUND(TotalPay/NumberOfEmployees, 2) AS AveragePayOfAgency\n",
    "                    FROM (SELECT `Agency Name` AS Agency, \n",
    "                    SUM(`Regular Gross Paid` + `Total OT Paid` + `Total Other Pay`) AS TotalPay,\n",
    "                    COUNT(`Row Index`) AS NumberOfEmployees FROM nycpayroll\n",
    "                    WHERE `Fiscal Year` == 2020\n",
    "                    GROUP BY Agency\n",
    "                    ORDER BY TotalPay DESC, NumberOfEmployees DESC\n",
    "                    LIMIT 25)\n",
    "        \"\"\")\n",
    "\n",
    "tab3.show(25, truncate=False)"
   ]
  },
  {
   "cell_type": "code",
   "execution_count": 15,
   "id": "artificial-johnston",
   "metadata": {},
   "outputs": [
    {
     "name": "stdout",
     "output_type": "stream",
     "text": [
      "+------------------------------+--------------------+----------------+\n",
      "|Agency                        |TotalHours          |AverageHourlyPay|\n",
      "+------------------------------+--------------------+----------------+\n",
      "|POLICE DEPARTMENT             |1.268098118532486E8 |37.21           |\n",
      "|FIRE DEPARTMENT               |4.362525443268359E7 |37.77           |\n",
      "|DEPARTMENT OF CORRECTION      |2.724735552547455E7 |36.2            |\n",
      "|DEPARTMENT OF EDUCATION ADMIN |2.47645985E7        |39.8            |\n",
      "|NYC HOUSING AUTHORITY         |2.4324237E7         |33.74           |\n",
      "|HRA/DEPT OF SOCIAL SERVICES   |2.4090660520507812E7|32.43           |\n",
      "|DEPARTMENT OF SANITATION      |2.375066957244873E7 |38.16           |\n",
      "|DEPT OF PARKS & RECREATION    |1.4635142969848633E7|28.15           |\n",
      "|ADMIN FOR CHILDREN'S SVCS     |1.4023586790222168E7|37.96           |\n",
      "|DEPT OF HEALTH/MENTAL HYGIENE |1.2891069119873047E7|40.06           |\n",
      "|DEPT OF ENVIRONMENT PROTECTION|1.2672862378845215E7|43.99           |\n",
      "|DEPARTMENT OF TRANSPORTATION  |1.184335651965332E7 |42.56           |\n",
      "|DEPT OF CITYWIDE ADMIN SVCS   |5417780.110107422   |38.64           |\n",
      "|DEPT. OF HOMELESS SERVICES    |4758149.880371094   |32.1            |\n",
      "|HOUSING PRESERVATION & DVLPMNT|4552971.439941406   |39.17           |\n",
      "|DEPARTMENT OF FINANCE         |3996513.729736328   |42.31           |\n",
      "|LAW DEPARTMENT                |3445763.75          |45.89           |\n",
      "|DEPARTMENT OF BUILDINGS       |3396004.3498535156  |40.54           |\n",
      "|DEPT OF INFO TECH & TELECOMM  |3000081.3399658203  |51.1            |\n",
      "|DISTRICT ATTORNEY-MANHATTAN   |2800701.3600463867  |44.55           |\n",
      "|COMMUNITY COLLEGE (MANHATTAN) |2566012.5400390625  |60.66           |\n",
      "|DEPT. OF DESIGN & CONSTRUCTION|2420364.75          |48.68           |\n",
      "|DEPARTMENT OF PROBATION       |2332211.2202148438  |32.81           |\n",
      "|COMMUNITY COLLEGE (LAGUARDIA) |2182169.3196411133  |55.83           |\n",
      "|DISTRICT ATTORNEY KINGS COUNTY|2123224.0           |41.39           |\n",
      "|BRONX DISTRICT ATTORNEY       |1959387.0           |39.07           |\n",
      "|COMMUNITY COLLEGE (KINGSBORO) |1784441.4001464844  |54.98           |\n",
      "|BOARD OF ELECTION             |1776008.730102539   |29.11           |\n",
      "|COMMUNITY COLLEGE (QUEENSBORO)|1652115.75          |62.23           |\n",
      "|COMMUNITY COLLEGE (BRONX)     |1524315.9198608398  |56.51           |\n",
      "+------------------------------+--------------------+----------------+\n",
      "\n"
     ]
    }
   ],
   "source": [
    "tab4 = spark.sql(\"\"\"SELECT Agency, TotalHours, ROUND(TotalWorkPay/TotalHours, 2) AS AverageHourlyPay\n",
    "                    FROM (SELECT `Agency Name` AS Agency,\n",
    "                    SUM(`Regular Hours` + `OT Hours`) AS TotalHours,\n",
    "                    SUM(`Regular Gross Paid` + `Total OT Paid`) AS TotalWorkPay\n",
    "                    FROM nycpayroll\n",
    "                    WHERE `FISCAL YEAR` == 2020\n",
    "                    GROUP BY Agency\n",
    "                    ORDER BY TotalHours DESC\n",
    "                    LIMIT 30)\n",
    "        \"\"\")\n",
    "\n",
    "tab4.show(30, truncate=False)"
   ]
  },
  {
   "cell_type": "code",
   "execution_count": 16,
   "id": "vanilla-miami",
   "metadata": {},
   "outputs": [
    {
     "name": "stdout",
     "output_type": "stream",
     "text": [
      "+------------------------------+-----------------+----------------+\n",
      "|Agency                        |NumberOfEmployees|AverageHourlyPay|\n",
      "+------------------------------+-----------------+----------------+\n",
      "|COMMUNITY COLLEGE (MANHATTAN) |6539             |60.66           |\n",
      "|COMMUNITY COLLEGE (LAGUARDIA) |4902             |55.83           |\n",
      "|COMMUNITY COLLEGE (KINGSBORO) |4085             |54.98           |\n",
      "|COMMUNITY COLLEGE (QUEENSBORO)|4222             |62.23           |\n",
      "|COMMUNITY COLLEGE (BRONX)     |3484             |56.51           |\n",
      "|COMMUNITY COLLEGE (HOSTOS)    |2353             |51.9            |\n",
      "|GUTTMAN COMMUNITY COLLEGE     |795              |57.94           |\n",
      "|HUNTER COLLEGE HIGH SCHOOL    |351              |52.97           |\n",
      "|DEPT OF ED PER DIEM TEACHERS  |90784            |null            |\n",
      "|DEPT OF ED PER SESSION TEACHER|608565           |null            |\n",
      "|DEPT OF ED PARA PROFESSIONALS |245259           |null            |\n",
      "|DEPT OF ED HRLY SUPPORT STAFF |164165           |null            |\n",
      "|DEPT OF ED PEDAGOGICAL        |758360           |null            |\n",
      "+------------------------------+-----------------+----------------+\n",
      "\n"
     ]
    }
   ],
   "source": [
    "tab4 = spark.sql(\"\"\"SELECT Agency, NumberOfEmployees, ROUND(TotalWorkPay/TotalHours, 2) AS AverageHourlyPay\n",
    "                    FROM (SELECT `Agency Name` AS Agency, COUNT(`Row Index`) AS NumberOfEmployees,\n",
    "                    SUM(`Regular Hours` + `OT Hours`) AS TotalHours,\n",
    "                    SUM(`Regular Gross Paid` + `Total OT Paid`) AS TotalWorkPay\n",
    "                    FROM nycpayroll\n",
    "                    WHERE `FISCAL YEAR` = 2020 AND `Agency Name` LIKE '%COLLEGE%' \n",
    "                    OR `Agency Name` LIKE 'DEPT OF ED%'\n",
    "                    GROUP BY Agency\n",
    "                    ORDER BY TotalHours DESC)\n",
    "        \"\"\")\n",
    "\n",
    "tab4.show(30, truncate=False)"
   ]
  },
  {
   "cell_type": "code",
   "execution_count": 17,
   "id": "composite-ranch",
   "metadata": {
    "scrolled": false
   },
   "outputs": [
    {
     "name": "stdout",
     "output_type": "stream",
     "text": [
      "+--------------------+-----+\n",
      "|   Title Description|count|\n",
      "+--------------------+-----+\n",
      "|   COLLEGE ASSISTANT| 6917|\n",
      "|    ADJUNCT LECTURER| 4131|\n",
      "|ADJUNCT ASSISTANT...| 1377|\n",
      "|CONTINUING EDUCAT...| 1350|\n",
      "|NON-TEACHING ADJU...| 1305|\n",
      "| ASSISTANT PROFESSOR| 1110|\n",
      "| ASSOCIATE PROFESSOR|  981|\n",
      "|           PROFESSOR|  844|\n",
      "|HIGHER EDUCATION ...|  761|\n",
      "|            LECTURER|  672|\n",
      "|CUNY CUSTODIAL AS...|  537|\n",
      "|CUNY OFFICE ASSIS...|  512|\n",
      "|NON-TEACHING ADJU...|  509|\n",
      "|ADJUNCT COLLEGE L...|  476|\n",
      "|        STUDENT AIDE|  431|\n",
      "|    ASSISTANT TO HEO|  415|\n",
      "|HIGHER EDUCATION ...|  380|\n",
      "|NON-TEACHING ADJU...|  361|\n",
      "|HIGHER EDUCATION ...|  299|\n",
      "|NON-TEACHING ADJU...|  212|\n",
      "+--------------------+-----+\n",
      "only showing top 20 rows\n",
      "\n"
     ]
    }
   ],
   "source": [
    "colleges = ['COMMUNITY COLLEGE (MANHATTAN)', 'COMMUNITY COLLEGE (LAGUARDIA)', 'COMMUNITY COLLEGE (KINGSBORO)', 'COMMUNITY COLLEGE (QUEENSBORO)', 'COMMUNITY COLLEGE (BRONX)', 'COMMUNITY COLLEGE (HOSTOS)', 'GUTTMAN COMMUNITY COLLEGE']\n",
    "nycdf.where((F.col('Fiscal Year') == 2020) & (F.col('Agency Name').isin(colleges))) \\\n",
    ".groupby('Title Description').count().sort(F.desc('count')).show()"
   ]
  },
  {
   "cell_type": "code",
   "execution_count": 18,
   "id": "distinct-turkey",
   "metadata": {
    "scrolled": false
   },
   "outputs": [
    {
     "name": "stdout",
     "output_type": "stream",
     "text": [
      "+----------------------------+---------+-----+----------------+------------+------------+\n",
      "|Position                    |Pay Basis|Count|AverageHourlyPay|MaxHourlyPay|MinHourlyPay|\n",
      "+----------------------------+---------+-----+----------------+------------+------------+\n",
      "|DISTINGUISHED PROFESSOR     |per Annum|1    |658.83          |658.83      |658.83      |\n",
      "|UNIVERSITY PROFESSOR        |per Annum|2    |623.56          |630.89      |620.2       |\n",
      "|PROFESSOR                   |per Annum|540  |444.06          |1107.71     |35.68       |\n",
      "|CLINICAL PROFESSOR          |per Annum|1    |411.96          |411.96      |411.96      |\n",
      "|ASSOCIATE PROFESSOR         |per Annum|639  |345.15          |516.51      |47.33       |\n",
      "|NON-TEACHING ADJUNCT II     |per Day  |2    |339.01          |427.78      |294.63      |\n",
      "|EOC LECTURER                |per Annum|10   |309.28          |331.72      |252.58      |\n",
      "|ASSISTANT PROFESSOR         |per Annum|773  |296.06          |438.49      |-298.44     |\n",
      "|LECTURER                    |per Annum|402  |283.48          |409.95      |47.39       |\n",
      "|INSTRUCTOR                  |per Annum|51   |245.91          |305.03      |127.04      |\n",
      "|CUNY START INSTRUCTOR       |per Annum|74   |237.52          |285.95      |188.64      |\n",
      "|CLIP INSTRUCTOR             |per Annum|63   |210.44          |260.92      |169.59      |\n",
      "|CONTINUING EDUCATION TEACHER|per Day  |6    |187.36          |227.41      |156.35      |\n",
      "|ADJUNCT PROFESSOR           |per Day  |65   |165.01          |378.21      |59.08       |\n",
      "|EOC ADJUNCT LECTURER        |per Day  |38   |144.62          |187.86      |43.57       |\n",
      "|ADJUNCT ASSOCIATE PROFESSOR |per Day  |96   |141.61          |472.72      |12.81       |\n",
      "|ASSISTANT PROFESSOR         |per Day  |296  |131.78          |852.6       |7.92        |\n",
      "|ASSOCIATE PROFESSOR         |per Day  |289  |125.2           |787.86      |8.59        |\n",
      "|PRESIDENT                   |per Annum|9    |124.86          |160.11      |119.13      |\n",
      "|PROFESSOR                   |per Day  |269  |123.77          |448.01      |12.53       |\n",
      "+----------------------------+---------+-----+----------------+------------+------------+\n",
      "only showing top 20 rows\n",
      "\n"
     ]
    }
   ],
   "source": [
    "tab5 = spark.sql(\"\"\"SELECT Position, `Pay Basis`, Count,\n",
    "            ROUND(TotalWorkPay/TotalHours, 2) AS AverageHourlyPay, \n",
    "            MaxHourlyPay, MinHourlyPay\n",
    "            FROM (SELECT `Title Description` AS Position, `Pay Basis`, COUNT(`Row Index`) AS Count,\n",
    "            SUM(`Regular Hours` + `OT Hours`) AS TotalHours,\n",
    "            SUM(`Regular Gross Paid` + `Total OT Paid`) AS TotalWorkPay,\n",
    "            ROUND(MAX((`Regular Gross Paid` + `Total OT Paid`)/(`Regular Hours` + `OT Hours`)), 2) AS MaxHourlyPay,\n",
    "            ROUND(MIN((`Regular Gross Paid` + `Total OT Paid`)/(`Regular Hours` + `OT Hours`)), 2) AS MinHourlyPay\n",
    "            FROM nycpayroll\n",
    "            WHERE `Fiscal Year` = 2020 AND `Agency Name` LIKE '%COMMUNITY COLLEGE%'\n",
    "            GROUP BY Position, `Pay Basis`\n",
    "            ORDER BY TotalHours DESC) \n",
    "            ORDER BY AverageHourlyPay DESC\n",
    "        \"\"\")\n",
    "\n",
    "tab5.show(truncate=False)"
   ]
  },
  {
   "cell_type": "code",
   "execution_count": 19,
   "id": "changed-quebec",
   "metadata": {},
   "outputs": [
    {
     "name": "stdout",
     "output_type": "stream",
     "text": [
      "+-----------+--------------+--------------------+---------+----------+--------+-----------------+---------------------+-------------------+--------------------------+-----------+---------+-------------+------------------+--------+-------------+---------------+-------------+\n",
      "|Fiscal Year|Payroll Number|         Agency Name|Last Name|First Name|Mid Init|Agency Start Date|Work Location Borough|  Title Description|Leave Status as of June 30|Base Salary|Pay Basis|Regular Hours|Regular Gross Paid|OT Hours|Total OT Paid|Total Other Pay|    Row Index|\n",
      "+-----------+--------------+--------------------+---------+----------+--------+-----------------+---------------------+-------------------+--------------------------+-----------+---------+-------------+------------------+--------+-------------+---------------+-------------+\n",
      "|       2020|           468|COMMUNITY COLLEGE...|   LAUCER|    HAMIDE|    null|             null|                BRONX|ASSISTANT PROFESSOR|                  SEASONAL|     151.99|  per Day|          -10|          -3039.84|     0.0|          0.0|        1550.32|1030792151043|\n",
      "|       2020|           468|COMMUNITY COLLEGE...|    RONCA|  KATHLEEN|       A|             null|                BRONX|ASSISTANT PROFESSOR|                  SEASONAL|      48.72|  per Day|          -10|            -974.4|     0.0|          0.0|         606.54|1082331758599|\n",
      "+-----------+--------------+--------------------+---------+----------+--------+-----------------+---------------------+-------------------+--------------------------+-----------+---------+-------------+------------------+--------+-------------+---------------+-------------+\n",
      "\n"
     ]
    }
   ],
   "source": [
    "nycdf.filter((F.col('Fiscal Year') == 2020) & (F.col('Title Description') == 'ASSISTANT PROFESSOR') \n",
    "             & (F.col('Regular Gross Paid') + F.col('Total OT Paid') < 0)).show()"
   ]
  },
  {
   "cell_type": "code",
   "execution_count": 20,
   "id": "mathematical-alexandria",
   "metadata": {},
   "outputs": [
    {
     "name": "stdout",
     "output_type": "stream",
     "text": [
      "+-----------+--------------+--------------------+---------+----------+--------+-----------------+---------------------+--------------------+--------------------------+-----------+---------+-------------+------------------+--------+-------------+---------------+-------------+\n",
      "|Fiscal Year|Payroll Number|         Agency Name|Last Name|First Name|Mid Init|Agency Start Date|Work Location Borough|   Title Description|Leave Status as of June 30|Base Salary|Pay Basis|Regular Hours|Regular Gross Paid|OT Hours|Total OT Paid|Total Other Pay|    Row Index|\n",
      "+-----------+--------------+--------------------+---------+----------+--------+-----------------+---------------------+--------------------+--------------------------+-----------+---------+-------------+------------------+--------+-------------+---------------+-------------+\n",
      "|       2020|           468|COMMUNITY COLLEGE...|    RONCA|  KATHLEEN|       A|             null|                BRONX|NON-TEACHING ADJU...|                    CEASED|      49.69| per Hour|            9|            447.22|     0.0|          0.0|            0.0| 154618825159|\n",
      "|       2020|           468|COMMUNITY COLLEGE...|   LAUCER|    HAMIDE|    null|             null|                BRONX|NON-TEACHING ADJU...|                    CEASED|      52.73| per Hour|            6|            310.14|     0.0|          0.0|            0.0| 781684049649|\n",
      "|       2020|           468|COMMUNITY COLLEGE...|   LAUCER|    HAMIDE|    null|             null|                BRONX| ASSISTANT PROFESSOR|                  SEASONAL|     151.99|  per Day|          -10|          -3039.84|     0.0|          0.0|        1550.32|1030792151043|\n",
      "|       2020|           468|COMMUNITY COLLEGE...|    RONCA|  KATHLEEN|       A|             null|                BRONX| ASSISTANT PROFESSOR|                  SEASONAL|      48.72|  per Day|          -10|            -974.4|     0.0|          0.0|         606.54|1082331758599|\n",
      "|       2020|           468|COMMUNITY COLLEGE...|   LAUCER|    HAMIDE|    null|             null|                BRONX| ASSISTANT PROFESSOR|                    ACTIVE|    93791.0|per Annum|          260|          94004.75|     0.0|          0.0|            0.0|1082331763156|\n",
      "|       2020|           468|COMMUNITY COLLEGE...|    RONCA|  KATHLEEN|       A|             null|                BRONX| ASSISTANT PROFESSOR|                    ACTIVE|    87762.0|per Annum|          260|          86627.54|     0.0|          0.0|            0.0|1417339212038|\n",
      "+-----------+--------------+--------------------+---------+----------+--------+-----------------+---------------------+--------------------+--------------------------+-----------+---------+-------------+------------------+--------+-------------+---------------+-------------+\n",
      "\n"
     ]
    }
   ],
   "source": [
    "nycdf.filter((F.col('Fiscal Year') == 2020) & (F.col('Last Name').isin({'LAUCER', 'RONCA'})) \n",
    "             & (F.col('First Name').isin({'HAMIDE', 'KATHLEEN'}))).show()"
   ]
  },
  {
   "cell_type": "code",
   "execution_count": 21,
   "id": "particular-improvement",
   "metadata": {},
   "outputs": [
    {
     "name": "stdout",
     "output_type": "stream",
     "text": [
      "+-----------+--------------+--------------------+----------+----------+--------+-----------------+---------------------+--------------------+--------------------------+-----------+---------+-------------+------------------+--------+-------------+---------------+-------------+\n",
      "|Fiscal Year|Payroll Number|         Agency Name| Last Name|First Name|Mid Init|Agency Start Date|Work Location Borough|   Title Description|Leave Status as of June 30|Base Salary|Pay Basis|Regular Hours|Regular Gross Paid|OT Hours|Total OT Paid|Total Other Pay|    Row Index|\n",
      "+-----------+--------------+--------------------+----------+----------+--------+-----------------+---------------------+--------------------+--------------------------+-----------+---------+-------------+------------------+--------+-------------+---------------+-------------+\n",
      "|       2020|           466|COMMUNITY COLLEGE...|     PEREZ|   ANTONIO|    null|             null|            MANHATTAN|UNIVERSITY PROFESSOR|                    ACTIVE|   162270.0|per Annum|          218|         135202.89|     0.0|          0.0|         257.51|1185410974580|\n",
      "|       2020|           463|COMMUNITY COLLEGE...|     KEIZS|    MARCIA|       V|             null|               QUEENS|UNIVERSITY PROFESSOR|                    ACTIVE|   157079.0|per Annum|          100|          63089.14|     0.0|          0.0|            0.0|1236950584604|\n",
      "|       2020|           468|COMMUNITY COLLEGE...|GOLDEMBERG|     ISAAC|    null|             null|                BRONX|DISTINGUISHED PRO...|                    CEASED|   159649.0|per Annum|           40|          26353.25|     0.0|          0.0|            0.0|1374389536296|\n",
      "+-----------+--------------+--------------------+----------+----------+--------+-----------------+---------------------+--------------------+--------------------------+-----------+---------+-------------+------------------+--------+-------------+---------------+-------------+\n",
      "\n"
     ]
    }
   ],
   "source": [
    "nycdf.filter((F.col('Fiscal Year') == 2020) & (F.col('Title Description').isin({'DISTINGUISHED PROFESSOR', 'UNIVERSITY PROFESSOR'}))).show()"
   ]
  },
  {
   "cell_type": "code",
   "execution_count": 22,
   "id": "visible-beginning",
   "metadata": {},
   "outputs": [
    {
     "name": "stdout",
     "output_type": "stream",
     "text": [
      "There are a total of 2071 person identities that are repeated.\n",
      "There are a total of 4286 records repeated with the same person. These records are not duplicates though.\n",
      "+------------------------+----------------------------+-----+----------+----------+---------+\n",
      "|Name                    |Position                    |Count|BaseSalary|TotalHours|GrossPay |\n",
      "+------------------------+----------------------------+-----+----------+----------+---------+\n",
      "|OMAR SERRANO            |CONTINUING EDUCATION TEACHER|6    |46.88     |321       |16704.47 |\n",
      "|JACQUELI FLOYD          |COLLEGE ASSISTANT           |4    |16.14     |589       |10427.06 |\n",
      "|LAMARANA DIALLO         |COLLEGE ASSISTANT           |4    |16.62     |765       |12878.48 |\n",
      "|STEVEN BELLUSCIO        |PROFESSOR                   |4    |30793.43  |450       |162511.64|\n",
      "|PATRICK MARANO          |CONTINUING EDUCATION TEACHER|4    |62.45     |368       |23353.49 |\n",
      "|STACY TETER             |CONTINUING EDUCATION TEACHER|4    |82.57     |86        |13185.48 |\n",
      "|TIGRAN KEGEYAN          |COLLEGE ASSISTANT           |4    |17.91     |229       |4232.55  |\n",
      "|ASHEISKA REID           |COLLEGE ASSISTANT           |4    |18.85     |743       |12382.98 |\n",
      "|XUEYING CHEN            |COLLEGE ASSISTANT           |4    |16.74     |239       |4996.18  |\n",
      "|JESSICA STANISZEWSKI    |COLLEGE ASSISTANT           |4    |17.61     |0         |224.36   |\n",
      "|SALEH TALUKDAR          |COLLEGE ASSISTANT           |4    |15.88     |803       |13265.18 |\n",
      "|DMITRY BROGUN           |CONTINUING EDUCATION TEACHER|4    |43.03     |117       |5699.27  |\n",
      "|LUIS CRUZ               |COLLEGE ASSISTANT           |4    |16.2      |615       |10559.58 |\n",
      "|ADAM LUEDTKE            |ASSOCIATE PROFESSOR         |3    |30464.77  |290       |94699.61 |\n",
      "|SOO BIN KIM             |COLLEGE ASSISTANT           |3    |19.46     |1045      |18334.56 |\n",
      "|LIN LEUNG               |PROFESSOR                   |3    |44697.42  |450       |161938.89|\n",
      "|ABDOUL BOUDA            |COLLEGE ASSISTANT           |3    |15.94     |1139      |18244.52 |\n",
      "|ABDOUL-HANANE GBADAMASSI|COLLEGE ASSISTANT           |3    |15.87     |650       |10790.05 |\n",
      "|KHAMIT ORUMBAEV         |COLLEGE ASSISTANT           |3    |18.21     |873       |17241.89 |\n",
      "|DAVID CHEN              |COLLEGE ASSISTANT           |3    |16.77     |809       |15471.01 |\n",
      "+------------------------+----------------------------+-----+----------+----------+---------+\n",
      "only showing top 20 rows\n",
      "\n"
     ]
    }
   ],
   "source": [
    "tab6 = spark.sql(\"\"\"SELECT CONCAT(`First Name`, ' ', `Last Name`) AS Name, `Title Description` AS Position,\n",
    "            COUNT(`Row Index`) AS Count, ROUND(AVG(`Base Salary`), 2) AS BaseSalary,\n",
    "            SUM(`Regular Hours`) AS TotalHours,\n",
    "            ROUND(SUM(`Regular Gross Paid`), 2) AS GrossPay\n",
    "            FROM nycpayroll\n",
    "            WHERE `Fiscal Year` = 2020 AND `Agency Name` LIKE '%COMMUNITY COLLEGE%'\n",
    "            GROUP BY `First Name`, `Mid Init`, `Last Name`, `Agency Name`, `Title Description`, `Agency Start Date`\n",
    "            HAVING Count > 1\n",
    "            ORDER BY Count DESC  \n",
    "        \"\"\")\n",
    "\n",
    "print(f'There are a total of {tab6.count()} person identities that are repeated.')\n",
    "print(f'There are a total of {tab6.select(F.sum(\"Count\")).collect()[0][0]} records repeated with the same person. These records are not duplicates though.')\n",
    "tab6.show(truncate=False)"
   ]
  },
  {
   "cell_type": "code",
   "execution_count": 23,
   "id": "southern-treasurer",
   "metadata": {
    "scrolled": false
   },
   "outputs": [
    {
     "name": "stdout",
     "output_type": "stream",
     "text": [
      "+----------------------+---------+\n",
      "|Name                  |NameCount|\n",
      "+----------------------+---------+\n",
      "|ASHFAQ KHAN           |8        |\n",
      "|FARANOT LEON          |7        |\n",
      "|KIMESHA LEON-BISHOP   |6        |\n",
      "|JOSE REYES            |6        |\n",
      "|THIERNO CONDE         |6        |\n",
      "|M MARTINA CLARK       |6        |\n",
      "|BARBARA LAWRENCE      |5        |\n",
      "|BABUL SAHA            |5        |\n",
      "|MISUN KIM             |5        |\n",
      "|MOHAMMED AKHTARUZZAMAN|5        |\n",
      "|GARY SMITH            |5        |\n",
      "|JOEL BARKER           |5        |\n",
      "|MICHAEL DANZA         |5        |\n",
      "|DIONICIO TAVERAS      |5        |\n",
      "|ALBERTO ALVAREZ       |5        |\n",
      "|MICHAEL GEORGE        |5        |\n",
      "|NICOLE COLBERT        |5        |\n",
      "|BRENDON BAIN          |5        |\n",
      "|BARBARA ELIAS         |5        |\n",
      "|GABRIELLA MORVAY      |5        |\n",
      "+----------------------+---------+\n",
      "only showing top 20 rows\n",
      "\n"
     ]
    }
   ],
   "source": [
    "tab7 = spark.sql(\"\"\"SELECT Name, COUNT(Name) AS NameCount\n",
    "            FROM (SELECT CONCAT(`First Name`, ' ', `Last Name`) AS Name, `Title Description` AS Position,\n",
    "            COUNT(`Row Index`) AS Count, ROUND(AVG(`Base Salary`), 2) AS BaseSalary,\n",
    "            SUM(`Regular Hours`) AS TotalHours,\n",
    "            ROUND(SUM(`Regular Gross Paid`), 2) AS GrossPay\n",
    "            FROM nycpayroll\n",
    "            WHERE `Fiscal Year` = 2020 AND `Agency Name` LIKE '%COMMUNITY COLLEGE%'\n",
    "            GROUP BY `First Name`, `Mid Init`, `Last Name`, `Agency Name`, `Title Description`, `Agency Start Date`)\n",
    "            GROUP BY Name\n",
    "            ORDER BY NameCount DESC\n",
    "        \"\"\")\n",
    "\n",
    "tab7.show(truncate=False)"
   ]
  },
  {
   "cell_type": "code",
   "execution_count": 24,
   "id": "random-maria",
   "metadata": {},
   "outputs": [
    {
     "name": "stdout",
     "output_type": "stream",
     "text": [
      "+---------------------+---------+-----+----------+----------+---------+\n",
      "|Name                 |Position |Count|BaseSalary|TotalHours|GrossPay |\n",
      "+---------------------+---------+-----+----------+----------+---------+\n",
      "|CHARLES KOSKY        |PROFESSOR|2    |67229.93  |460       |195223.76|\n",
      "|NEAL PHILLIP         |PROFESSOR|3    |41973.58  |496       |189646.95|\n",
      "|MAHMOUD ARDEBILI     |PROFESSOR|2    |67317.79  |460       |184652.88|\n",
      "|KAMAL HAJALLIE       |PROFESSOR|2    |67114.66  |625       |178181.51|\n",
      "|TAK CHOI DAVID CHEUNG|PROFESSOR|2    |67053.18  |490       |174478.6 |\n",
      "|CHARLES KEE          |PROFESSOR|2    |67068.55  |500       |173699.18|\n",
      "|AVIS ANDERSON        |PROFESSOR|2    |67068.55  |572       |170745.98|\n",
      "|MICHAEL NAZZARO      |PROFESSOR|2    |67111.58  |470       |170669.37|\n",
      "|CLARA WAJNGURT       |PROFESSOR|2    |67083.92  |400       |170410.5 |\n",
      "|YVONNE PHANG         |PROFESSOR|2    |62910.07  |460       |170185.88|\n",
      "|EVERETT FLANNERY     |PROFESSOR|2    |67111.58  |460       |169097.46|\n",
      "|JALIL MOGHADDASI     |PROFESSOR|2    |67092.01  |440       |168818.64|\n",
      "|SUSIE BOYDSTON-WHITE |PROFESSOR|2    |61363.08  |450       |168585.29|\n",
      "|JANICE KARLEN-POLLACK|PROFESSOR|2    |66899.47  |565       |168439.71|\n",
      "|ERIC ROTHENBURG      |PROFESSOR|2    |66895.64  |450       |168037.9 |\n",
      "|RAFAEL CORBALAN      |PROFESSOR|2    |62934.66  |470       |166567.79|\n",
      "|WENJUAN FAN          |PROFESSOR|2    |62842.44  |610       |166133.01|\n",
      "|DONALD TRICARICO     |PROFESSOR|2    |66960.96  |480       |165778.32|\n",
      "|MICHAEL NAPOLITANO   |PROFESSOR|2    |66930.22  |475       |165532.4 |\n",
      "|ANTHONY BORGESE      |PROFESSOR|2    |67001.9   |500       |165049.82|\n",
      "+---------------------+---------+-----+----------+----------+---------+\n",
      "only showing top 20 rows\n",
      "\n"
     ]
    }
   ],
   "source": [
    "tab7 = spark.sql(\"\"\"SELECT CONCAT(`First Name`, ' ', `Last Name`) AS Name, `Title Description` AS Position,\n",
    "            COUNT(`Row Index`) AS Count, ROUND(AVG(`Base Salary`), 2) AS BaseSalary,\n",
    "            SUM(`Regular Hours`) AS TotalHours,\n",
    "            ROUND(SUM(`Regular Gross Paid`), 2) AS GrossPay\n",
    "            FROM nycpayroll\n",
    "            WHERE `Fiscal Year` = 2020 AND `Agency Name` LIKE '%COMMUNITY COLLEGE%' \n",
    "            AND `Title Description` RLIKE 'PROFESSOR|LECTURER|INSTRUCTOR'\n",
    "            GROUP BY `First Name`, `Mid Init`, `Last Name`, `Agency Name`, `Title Description`, `Agency Start Date`\n",
    "            ORDER BY GrossPay DESC  \n",
    "        \"\"\")\n",
    "\n",
    "tab7.show(truncate=False)"
   ]
  },
  {
   "cell_type": "code",
   "execution_count": 25,
   "id": "novel-morrison",
   "metadata": {},
   "outputs": [
    {
     "name": "stdout",
     "output_type": "stream",
     "text": [
      "+------------------+---------------------------+-----+----------+----------+--------+\n",
      "|Name              |Position                   |Count|BaseSalary|TotalHours|GrossPay|\n",
      "+------------------+---------------------------+-----+----------+----------+--------+\n",
      "|ELLEN LEWIS       |INSTRUCTOR                 |1    |58417.0   |-30       |-6146.56|\n",
      "|MARLON SEATON     |INSTRUCTOR                 |1    |55487.0   |-20       |-3747.95|\n",
      "|HSING-LIH CHOU    |ADJUNCT ASSISTANT PROFESSOR|1    |126.5     |0         |-1264.99|\n",
      "|REBECCA LEOPOLD   |ADJUNCT ASSISTANT PROFESSOR|1    |60.9      |0         |-1218.0 |\n",
      "|JAMES DONOVAN     |ADJUNCT LECTURER           |1    |120.81    |0         |-1208.08|\n",
      "|MELANIE NEFF      |ADJUNCT LECTURER           |1    |120.81    |0         |-1208.08|\n",
      "|INDRONIL SAHA     |ADJUNCT LECTURER           |1    |79.01     |-16       |-1171.16|\n",
      "|MARTINE GAUTHIER  |ADJUNCT LECTURER           |1    |116.19    |0         |-1161.9 |\n",
      "|ANTOINETTE GUMBS  |ADJUNCT LECTURER           |1    |107.39    |-10       |-1073.85|\n",
      "|HYUN DAVIDSON     |ADJUNCT LECTURER           |1    |105.34    |-10       |-1053.4 |\n",
      "|SILVIA MARINARI   |ADJUNCT LECTURER           |1    |93.96     |0         |-939.62 |\n",
      "|KEVIN GUZZO       |ADJUNCT LECTURER           |1    |41.87     |-20       |-837.46 |\n",
      "|DANA LILJEGREN    |ADJUNCT LECTURER           |1    |40.27     |-20       |-805.38 |\n",
      "|PHILLIP WHITE     |ADJUNCT ASSISTANT PROFESSOR|1    |63.33     |10        |-791.62 |\n",
      "|LISA DESPAIN      |ASSOCIATE PROFESSOR        |1    |91.08     |-9        |-780.14 |\n",
      "|ANDREW SALZILLO   |ADJUNCT LECTURER           |1    |73.02     |-12       |-760.41 |\n",
      "|GIFTY ADJEI       |ADJUNCT ASSISTANT PROFESSOR|1    |61.51     |0         |-685.13 |\n",
      "|MAURO FA          |ADJUNCT ASSISTANT PROFESSOR|1    |63.36     |10        |-633.6  |\n",
      "|JUNG MUN          |ADJUNCT ASSISTANT PROFESSOR|1    |60.9      |0         |-609.0  |\n",
      "|FLORINA CAPISTRANO|ADJUNCT ASSISTANT PROFESSOR|1    |47.5      |0         |-474.98 |\n",
      "+------------------+---------------------------+-----+----------+----------+--------+\n",
      "only showing top 20 rows\n",
      "\n"
     ]
    }
   ],
   "source": [
    "tab8 = spark.sql(\"\"\"SELECT CONCAT(`First Name`, ' ', `Last Name`) AS Name, `Title Description` AS Position,\n",
    "            COUNT(`Row Index`) AS Count, ROUND(AVG(`Base Salary`), 2) AS BaseSalary,\n",
    "            SUM(`Regular Hours`) AS TotalHours,\n",
    "            ROUND(SUM(`Regular Gross Paid`), 2) AS GrossPay\n",
    "            FROM nycpayroll\n",
    "            WHERE `Fiscal Year` = 2020 AND `Agency Name` LIKE '%COMMUNITY COLLEGE%' \n",
    "            AND `Title Description` RLIKE 'PROFESSOR|LECTURER|INSTRUCTOR'\n",
    "            GROUP BY `First Name`, `Mid Init`, `Last Name`, `Agency Name`, `Title Description`, `Agency Start Date`\n",
    "            ORDER BY GrossPay \n",
    "        \"\"\")\n",
    "\n",
    "tab8.show(truncate=False)"
   ]
  },
  {
   "cell_type": "code",
   "execution_count": 26,
   "id": "built-certificate",
   "metadata": {},
   "outputs": [
    {
     "name": "stdout",
     "output_type": "stream",
     "text": [
      "+-------------------+---------------------------+-----+----------+----------+--------+\n",
      "|Name               |Position                   |Count|BaseSalary|TotalHours|GrossPay|\n",
      "+-------------------+---------------------------+-----+----------+----------+--------+\n",
      "|DINORAH HUDSON     |ADJUNCT LECTURER           |2    |56.64     |0         |2.86    |\n",
      "|GERMANA GIUPPONI   |ADJUNCT LECTURER           |2    |66.64     |0         |2.98    |\n",
      "|DANIEL LAZARUS     |ASSISTANT PROFESSOR        |1    |82.82     |0         |3.24    |\n",
      "|MAGALIE LOPEZ      |ADJUNCT LECTURER           |1    |74.48     |0         |4.28    |\n",
      "|PATRICIA GRAHAM    |ADJUNCT LECTURER           |2    |96.91     |0         |4.29    |\n",
      "|ERICA MUKHERJEE    |ADJUNCT LECTURER           |2    |83.49     |0         |5.0     |\n",
      "|NOAH SIMMONS       |ASSISTANT PROFESSOR        |1    |87.85     |0         |5.92    |\n",
      "|ALMA IDEHEN        |ADJUNCT LECTURER           |2    |58.9      |0         |5.96    |\n",
      "|MARCOS BERNAL-SALAS|ADJUNCT LECTURER           |2    |105.99    |0         |6.2     |\n",
      "|RITA DIMARCO       |ADJUNCT LECTURER           |1    |75.93     |0         |6.71    |\n",
      "|MARY O'RIORDAN     |ADJUNCT ASSOCIATE PROFESSOR|2    |107.12    |0         |7.28    |\n",
      "|AIMEE HERMAN-DURICA|ADJUNCT LECTURER           |1    |79.01     |0         |7.75    |\n",
      "|MIRIAM MORA        |ADJUNCT LECTURER           |1    |73.02     |0         |9.29    |\n",
      "|HUBERT WHITE       |ADJUNCT LECTURER           |2    |72.86     |0         |10.43   |\n",
      "|RONDI DAVIES       |ASSISTANT PROFESSOR        |1    |87.83     |0         |10.56   |\n",
      "|DIONNE MILLER      |PROFESSOR                  |1    |99.05     |0         |10.67   |\n",
      "|ELIZABETH LAURIA   |ADJUNCT LECTURER           |1    |73.02     |0         |15.73   |\n",
      "|SANJAY JAHALAL     |ADJUNCT LECTURER           |1    |74.48     |0         |18.59   |\n",
      "|MICHAEL FLEMING    |CLIP INSTRUCTOR            |1    |53303.0   |0         |25.19   |\n",
      "|ARTHUR SIMMS       |ASSOCIATE PROFESSOR        |1    |91.08     |0         |26.25   |\n",
      "+-------------------+---------------------------+-----+----------+----------+--------+\n",
      "only showing top 20 rows\n",
      "\n"
     ]
    }
   ],
   "source": [
    "tab9 = spark.sql(\"\"\"SELECT CONCAT(`First Name`, ' ', `Last Name`) AS Name, `Title Description` AS Position,\n",
    "            COUNT(`Row Index`) AS Count, ROUND(AVG(`Base Salary`), 2) AS BaseSalary,\n",
    "            SUM(`Regular Hours`) AS TotalHours,\n",
    "            ROUND(SUM(`Regular Gross Paid`), 2) AS GrossPay\n",
    "            FROM nycpayroll\n",
    "            WHERE `Fiscal Year` = 2020 AND `Agency Name` LIKE '%COMMUNITY COLLEGE%' \n",
    "            AND `Title Description` RLIKE 'PROFESSOR|LECTURER|INSTRUCTOR'\n",
    "            GROUP BY `First Name`, `Mid Init`, `Last Name`, `Agency Name`, `Title Description`, `Agency Start Date`\n",
    "            HAVING GrossPay > 0\n",
    "            ORDER BY GrossPay \n",
    "        \"\"\")\n",
    "\n",
    "tab9.show(truncate=False)"
   ]
  },
  {
   "cell_type": "code",
   "execution_count": 27,
   "id": "supported-garden",
   "metadata": {},
   "outputs": [
    {
     "name": "stdout",
     "output_type": "stream",
     "text": [
      "+---------------------+---------------------------+-----+----------+----------+--------+\n",
      "|Name                 |Position                   |Count|BaseSalary|TotalHours|GrossPay|\n",
      "+---------------------+---------------------------+-----+----------+----------+--------+\n",
      "|NELLY VEGA           |ADJUNCT LECTURER           |2    |83.49     |3         |223.35  |\n",
      "|ANDREW BOUDREAU      |ADJUNCT LECTURER           |1    |22.34     |10        |223.44  |\n",
      "|GENEVA THOMAS        |ADJUNCT LECTURER           |1    |73.02     |2         |246.89  |\n",
      "|DAVID HUTCHISON      |ADJUNCT LECTURER           |1    |84.18     |3         |247.6   |\n",
      "|DAVID BRENNER        |ADJUNCT ASSISTANT PROFESSOR|1    |84.48     |3         |289.87  |\n",
      "|HUGUETTE CHARLES     |ADJUNCT LECTURER           |1    |31.65     |10        |316.54  |\n",
      "|MALICK SAMATEH       |ADJUNCT LECTURER           |1    |80.59     |4         |328.32  |\n",
      "|JOHN ALVARADO        |ADJUNCT LECTURER           |1    |40.27     |10        |402.69  |\n",
      "|JUAN RODRIGUEZ JR    |ADJUNCT LECTURER           |1    |139.65    |10        |446.88  |\n",
      "|MARJALINE VIZCARRONDO|ADJUNCT LECTURER           |1    |74.48     |6         |446.88  |\n",
      "|CHARLES CRUGNOLA     |ADJUNCT LECTURER           |1    |74.48     |6         |473.28  |\n",
      "|EDWARD MENGHI        |ADJUNCT LECTURER           |1    |5.79      |60        |521.37  |\n",
      "|DANIELLE DA COSTA    |ADJUNCT LECTURER           |1    |13.42     |40        |536.92  |\n",
      "|SEAN NICHOLSON       |ADJUNCT LECTURER           |1    |21.48     |20        |644.31  |\n",
      "|MARGARET DOONAN      |ADJUNCT ASSISTANT PROFESSOR|1    |84.48     |8         |662.56  |\n",
      "|BRIANNE WAYCHOFF     |ADJUNCT LECTURER           |1    |54.67     |13        |696.8   |\n",
      "|DANIEL HEGARTY       |ADJUNCT LECTURER           |1    |90.9      |6         |700.26  |\n",
      "|JOSEPH DEMARCO       |ADJUNCT LECTURER           |1    |28.64     |20        |715.9   |\n",
      "|MICHELLE LUGONES     |ADJUNCT ASSOCIATE PROFESSOR|1    |12.81     |60        |768.48  |\n",
      "|JANET NEIPRIS-WILLE  |ADJUNCT ASSISTANT PROFESSOR|1    |45.68     |10        |913.5   |\n",
      "+---------------------+---------------------------+-----+----------+----------+--------+\n",
      "only showing top 20 rows\n",
      "\n"
     ]
    }
   ],
   "source": [
    "tab10 = spark.sql(\"\"\"SELECT CONCAT(`First Name`, ' ', `Last Name`) AS Name, `Title Description` AS Position,\n",
    "            COUNT(`Row Index`) AS Count, ROUND(AVG(`Base Salary`), 2) AS BaseSalary,\n",
    "            SUM(`Regular Hours`) AS TotalHours,\n",
    "            ROUND(SUM(`Regular Gross Paid`), 2) AS GrossPay\n",
    "            FROM nycpayroll\n",
    "            WHERE `Fiscal Year` = 2020 AND `Agency Name` LIKE '%COMMUNITY COLLEGE%' \n",
    "            AND `Title Description` RLIKE 'PROFESSOR|LECTURER|INSTRUCTOR'\n",
    "            GROUP BY `First Name`, `Mid Init`, `Last Name`, `Agency Name`, `Title Description`, `Agency Start Date`\n",
    "            HAVING GrossPay > 0 AND TotalHours > 0\n",
    "            ORDER BY GrossPay \n",
    "        \"\"\")\n",
    "\n",
    "tab10.show(truncate=False)"
   ]
  },
  {
   "cell_type": "code",
   "execution_count": 28,
   "id": "decimal-salvation",
   "metadata": {},
   "outputs": [
    {
     "name": "stdout",
     "output_type": "stream",
     "text": [
      "There are a total of 293440 records with same identities working at the Department of Education.\n",
      "+----------------------+-----------------+-------------------------+-----+----------+----------+---------+\n",
      "|Agency                |Name             |Position                 |Count|BaseSalary|TotalHours|GrossPay |\n",
      "+----------------------+-----------------+-------------------------+-----+----------+----------+---------+\n",
      "|DEPT OF ED PEDAGOGICAL|RICHARD CARRANZA |CHANCELLOR               |1    |363346.0  |0         |359818.41|\n",
      "|DEPT OF ED PEDAGOGICAL|EVELYN ORTIZ     |TEACHER                  |3    |110769.67 |0         |325215.45|\n",
      "|DEPT OF ED PEDAGOGICAL|MICHELLE RIVERA  |TEACHER                  |2    |99294.0   |0         |291521.53|\n",
      "|DEPT OF ED PEDAGOGICAL|MELISSA DIAZ     |TEACHER                  |3    |87147.0   |0         |252112.98|\n",
      "|DEPT OF ED PEDAGOGICAL|SARAH KIM        |TEACHER                  |3    |86321.33  |0         |247937.7 |\n",
      "|DEPT OF ED PEDAGOGICAL|EVELYN HERNANDEZ |TEACHER                  |2    |124909.0  |0         |244485.59|\n",
      "|DEPT OF ED PEDAGOGICAL|JOANNE LYONS     |TEACHER                  |2    |124909.0  |0         |244485.59|\n",
      "|DEPT OF ED PEDAGOGICAL|ROSA RODRIGUEZ   |TEACHER                  |2    |124909.0  |0         |244485.59|\n",
      "|DEPT OF ED PEDAGOGICAL|STEVEN BLUM      |TEACHER                  |2    |124909.0  |0         |243501.8 |\n",
      "|DEPT OF ED PEDAGOGICAL|ELIZABETH DEJEAN |TEACHER                  |2    |121883.5  |0         |238564.29|\n",
      "|DEPT OF ED PEDAGOGICAL|ANNA MARKETOS    |TEACHER                  |2    |121230.0  |0         |237284.34|\n",
      "|DEPT OF ED PEDAGOGICAL|LISA SCHWARTZ    |TEACHER                  |2    |121230.0  |0         |236300.5 |\n",
      "|DEPT OF ED PEDAGOGICAL|DAWN DEMATTEO    |TEACHER                  |2    |121230.0  |0         |236300.5 |\n",
      "|DEPT OF ED PEDAGOGICAL|LINDA CHEN       |ASSISTANT SUPERINTENDENT |1    |236332.0  |0         |234037.77|\n",
      "|DEPT OF ED PEDAGOGICAL|JENNIFER LERNER  |TEACHER                  |2    |120042.0  |0         |228840.73|\n",
      "|DEPT OF ED PEDAGOGICAL|GLORIA BROWN     |TEACHER                  |2    |118858.0  |0         |228709.17|\n",
      "|DEPT OF ED PEDAGOGICAL|SCOTT SCHWARTZ   |TEACHER                  |2    |116507.5  |0         |228041.4 |\n",
      "|DEPT OF ED PEDAGOGICAL|JOCELYN TAVERAS  |TEACHER                  |2    |116507.5  |0         |228041.4 |\n",
      "|DEPT OF ED PEDAGOGICAL|LASHAWN ROBINSON |COMMUNITY SUPERTINDENT   |1    |229887.0  |0         |227655.13|\n",
      "|DEPT OF ED PEDAGOGICAL|ERIC ROSENBERG   |TEACHER SPECIAL EDUCATION|2    |115780.5  |0         |226618.11|\n",
      "|DEPT OF ED PEDAGOGICAL|KAREN PHILLIPS   |TEACHER                  |2    |115780.5  |0         |226618.11|\n",
      "|DEPT OF ED PEDAGOGICAL|NANCY RODRIGUEZ  |TEACHER                  |2    |115780.5  |0         |226618.11|\n",
      "|DEPT OF ED PEDAGOGICAL|LISSETTE TORRES  |TEACHER                  |2    |114672.5  |0         |225884.27|\n",
      "|DEPT OF ED PEDAGOGICAL|MARLENE WALCOTT  |TEACHER                  |2    |115780.5  |0         |223464.61|\n",
      "|DEPT OF ED PEDAGOGICAL|JENNIFER MORAN   |TEACHER                  |2    |115780.5  |0         |222788.86|\n",
      "|DEPT OF ED PEDAGOGICAL|MAUREEN LEWIS    |TEACHER                  |2    |113010.0  |0         |221195.25|\n",
      "|DEPT OF ED PEDAGOGICAL|JESSICA RIVERA   |TEACHER SPECIAL EDUCATION|2    |112828.5  |0         |220840.14|\n",
      "|DEPT OF ED PEDAGOGICAL|ELIZABETH JOHNSON|TEACHER                  |2    |112828.5  |0         |220603.66|\n",
      "|DEPT OF ED PEDAGOGICAL|TIMOTHY LISANTE  |COMMUNITY SUPERTINDENT   |1    |222671.0  |0         |220509.05|\n",
      "|DEPT OF ED PEDAGOGICAL|ELIZABETH LOPEZ  |TEACHER                  |2    |111697.5  |0         |218626.2 |\n",
      "+----------------------+-----------------+-------------------------+-----+----------+----------+---------+\n",
      "only showing top 30 rows\n",
      "\n"
     ]
    }
   ],
   "source": [
    "tab12 = spark.sql(\"\"\"SELECT `Agency Name` AS Agency, CONCAT(`First Name`, ' ', `Last Name`) AS Name,\n",
    "                    `Title Description` AS Position, COUNT(`Row Index`) AS Count,\n",
    "                    ROUND(AVG(`Base Salary`), 2) AS BaseSalary, SUM(`Regular Hours`) AS TotalHours,\n",
    "                    ROUND(SUM(`Regular Gross Paid`), 2) AS GrossPay\n",
    "                    FROM nycpayroll\n",
    "                    WHERE `FISCAL YEAR` = 2020 AND `Agency Name` LIKE '%DEPT OF ED%' \n",
    "                    GROUP BY `First Name`, `Mid Init`, `Last Name`, `Agency Name`, `Title Description`, `Agency Start Date`\n",
    "                    ORDER BY GrossPay DESC\n",
    "        \"\"\")\n",
    "print(f'There are a total of {tab12.count()} records with same identities working at the Department of Education.')\n",
    "tab12.show(30, truncate=False)"
   ]
  },
  {
   "cell_type": "code",
   "execution_count": 29,
   "id": "sexual-bearing",
   "metadata": {},
   "outputs": [
    {
     "name": "stdout",
     "output_type": "stream",
     "text": [
      "There are 97 employees at the Department of Education with gross pay $200,000 and over.\n",
      "There are 2282 employees at the Department of Education with gross pay $150,000 and over.\n",
      "There are 34239 employees at the Department of Education with gross pay $100,000 and over.\n",
      "There are 293343 employees at the Department of Education with gross pay under $100,000.\n"
     ]
    }
   ],
   "source": [
    "print(f'''There are {tab12.select('GrossPay').where(tab12.GrossPay >= 200_000).count()} employees at the Department of Education with gross pay $200,000 and over.''')\n",
    "print(f'''There are {tab12.select('GrossPay').where(tab12.GrossPay >= 150_000).count()} employees at the Department of Education with gross pay $150,000 and over.''')\n",
    "print(f'''There are {tab12.select('GrossPay').where(tab12.GrossPay >= 100_000).count()} employees at the Department of Education with gross pay $100,000 and over.''')\n",
    "print(f'''There are {tab12.select('GrossPay').where(tab12.GrossPay < 200_000).count()} employees at the Department of Education with gross pay under $100,000.''')"
   ]
  },
  {
   "cell_type": "code",
   "execution_count": 30,
   "id": "similar-title",
   "metadata": {},
   "outputs": [
    {
     "name": "stdout",
     "output_type": "stream",
     "text": [
      "+----------------------+--------------------+-------------------------+-----+----+----------+----------+---------+\n",
      "|Agency                |Name                |Position                 |Count|Year|BaseSalary|TotalHours|GrossPay |\n",
      "+----------------------+--------------------+-------------------------+-----+----+----------+----------+---------+\n",
      "|DEPT OF ED PEDAGOGICAL|EVELYN ORTIZ        |TEACHER                  |3    |2019|108067.33 |0         |368829.34|\n",
      "|DEPT OF ED PEDAGOGICAL|RICHARD CARRANZA    |CHANCELLOR               |1    |2019|352763.0  |0         |357973.22|\n",
      "|DEPT OF ED PEDAGOGICAL|MICHELLE RIVERA     |TEACHER                  |2    |2019|96871.0   |0         |316932.89|\n",
      "|DEPT OF ED PEDAGOGICAL|EVELYN ORTIZ        |TEACHER                  |3    |2018|105484.0  |0         |315548.44|\n",
      "|DEPT OF ED PEDAGOGICAL|EVELYN ORTIZ        |TEACHER                  |3    |2017|98760.33  |0         |296335.99|\n",
      "|DEPT OF ED PEDAGOGICAL|JESSICA RIVERA      |TEACHER SPECIAL EDUCATION|3    |2018|99010.67  |0         |283181.42|\n",
      "|DEPT OF ED PEDAGOGICAL|EVELYN ORTIZ        |TEACHER                  |3    |2016|92705.33  |0         |281203.82|\n",
      "|DEPT OF ED PEDAGOGICAL|EVELYN GOMEZ        |TEACHER                  |3    |2015|91931.0   |0         |272156.66|\n",
      "|DEPT OF ED PEDAGOGICAL|EVELYN ORTIZ        |TEACHER                  |3    |2015|87288.0   |0         |269316.44|\n",
      "|DEPT OF ED PEDAGOGICAL|EVELYN HERNANDEZ    |TEACHER                  |2    |2019|121862.0  |0         |268480.23|\n",
      "|DEPT OF ED PEDAGOGICAL|JOANNE LYONS        |TEACHER                  |2    |2019|121862.0  |0         |266585.41|\n",
      "|DEPT OF ED PEDAGOGICAL|ROSA RODRIGUEZ      |TEACHER                  |2    |2019|121862.0  |0         |265616.16|\n",
      "|DEPT OF ED PEDAGOGICAL|MELISSA DIAZ        |TEACHER                  |3    |2019|82932.33  |0         |263438.99|\n",
      "|DEPT OF ED PEDAGOGICAL|JESSICA RIVERA      |TEACHER SPECIAL EDUCATION|3    |2017|92145.33  |0         |262422.95|\n",
      "|DEPT OF ED PEDAGOGICAL|MICHELLE RIVERA     |TEACHER                  |2    |2018|92321.0   |0         |261549.35|\n",
      "|DEPT OF ED PEDAGOGICAL|EVELYN GOMEZ        |TEACHER                  |3    |2014|86757.0   |0         |260132.7 |\n",
      "|DEPT OF ED PEDAGOGICAL|ANNA MARKETOS       |TEACHER                  |2    |2019|118272.5  |0         |257810.88|\n",
      "|DEPT OF ED PEDAGOGICAL|STEVEN BLUM         |TEACHER                  |2    |2019|118910.5  |0         |257144.27|\n",
      "|DEPT OF ED PEDAGOGICAL|DAVID VAZQUEZ       |PRINCIPAL                |1    |2019|202712.0  |0         |256016.8 |\n",
      "|DEPT OF ED PEDAGOGICAL|LISSETTE TORRES     |TEACHER                  |2    |2019|115325.5  |0         |255464.59|\n",
      "|DEPT OF ED PEDAGOGICAL|JOAN INDART ETIENNE |PRINCIPAL                |1    |2019|184197.0  |0         |255378.33|\n",
      "|DEPT OF ED PEDAGOGICAL|ELIZABETH DEJEAN    |TEACHER                  |2    |2019|118910.5  |0         |253655.2 |\n",
      "|DEPT OF ED PEDAGOGICAL|ELIZABETH LOPEZ     |TEACHER                  |3    |2016|86970.0   |0         |253577.59|\n",
      "|DEPT OF ED PEDAGOGICAL|EVELYN ORTIZ        |TEACHER                  |3    |2014|80189.0   |0         |251684.3 |\n",
      "|DEPT OF ED PEDAGOGICAL|LISA SCHWARTZ       |TEACHER                  |2    |2019|115321.0  |0         |251487.48|\n",
      "|DEPT OF ED PEDAGOGICAL|ROBIN DIAMOND       |TEACHER SPECIAL EDUCATION|2    |2019|107301.5  |0         |251273.09|\n",
      "|DEPT OF ED PEDAGOGICAL|JESSICA RIVERA      |TEACHER SPECIAL EDUCATION|3    |2016|85801.67  |0         |250510.41|\n",
      "|DEPT OF ED PEDAGOGICAL|SCOTT SCHWARTZ      |TEACHER                  |2    |2019|113665.5  |0         |249053.0 |\n",
      "|DEPT OF ED PEDAGOGICAL|MIRZA SANCHEZ MEDINA|PRINCIPAL ASSIGNED       |1    |2019|209197.0  |0         |247808.73|\n",
      "|DEPT OF ED PEDAGOGICAL|DAWN DEMATTEO       |TEACHER                  |2    |2019|115321.0  |0         |247095.48|\n",
      "+----------------------+--------------------+-------------------------+-----+----+----------+----------+---------+\n",
      "only showing top 30 rows\n",
      "\n"
     ]
    }
   ],
   "source": [
    "name = tab12.select('Name').where(tab12.GrossPay >= 200_000).rdd.flatMap(lambda x: x).collect()\n",
    "tab13 = spark.sql(\"\"\"SELECT `Agency Name` AS Agency, CONCAT(`First Name`, ' ', `Last Name`) AS Name,\n",
    "                    `Title Description` AS Position, COUNT(`Row Index`) AS Count, `Fiscal Year` AS Year,\n",
    "                    ROUND(AVG(`Base Salary`), 2) AS BaseSalary, SUM(`Regular Hours`) AS TotalHours,\n",
    "                    ROUND(SUM(`Regular Gross Paid`), 2) AS GrossPay\n",
    "                    FROM nycpayroll\n",
    "                    WHERE `FISCAL YEAR` <> 2020 AND `Agency Name` LIKE '%DEPT OF ED%'\n",
    "                    GROUP BY `First Name`, `Mid Init`, `Last Name`, `Agency Name`, `Title Description`, `Agency Start Date`, `Fiscal Year`\n",
    "                    HAVING Name IN {0}\n",
    "                    ORDER BY GrossPay DESC\n",
    "        \"\"\".format(tuple(name)))\n",
    "\n",
    "tab13.show(30, truncate=False)"
   ]
  },
  {
   "cell_type": "code",
   "execution_count": 31,
   "id": "exclusive-drill",
   "metadata": {},
   "outputs": [
    {
     "name": "stdout",
     "output_type": "stream",
     "text": [
      "+-----------+--------------+----------------------+---------+----------+--------+-----------------+---------------------+------------------+--------------------------+-----------+---------+-------------+------------------+--------+-------------+---------------+-------------+\n",
      "|Fiscal Year|Payroll Number|Agency Name           |Last Name|First Name|Mid Init|Agency Start Date|Work Location Borough|Title Description |Leave Status as of June 30|Base Salary|Pay Basis|Regular Hours|Regular Gross Paid|OT Hours|Total OT Paid|Total Other Pay|Row Index    |\n",
      "+-----------+--------------+----------------------+---------+----------+--------+-----------------+---------------------+------------------+--------------------------+-----------+---------+-------------+------------------+--------+-------------+---------------+-------------+\n",
      "|2020       |742           |DEPT OF ED PEDAGOGICAL|ORTIZ    |EVELYN    |null    |null             |MANHATTAN            |TEACHER           |ACTIVE                    |117551.0   |per Annum|0            |115041.54         |0.0     |0.0          |11974.51       |137438954142 |\n",
      "|2016       |null          |DEPT OF ED PEDAGOGICAL|ORTIZ    |EVELYN    |null    |null             |MANHATTAN            |TEACHER           |ACTIVE                    |97130.0    |per Annum|0            |94469.98          |0.0     |0.0          |0.0            |369367192044 |\n",
      "|2016       |null          |DEPT OF ED PEDAGOGICAL|ORTIZ    |EVELYN    |null    |null             |MANHATTAN            |TEACHER           |ACTIVE                    |88080.0    |per Annum|0            |97215.88          |0.0     |0.0          |0.0            |446676603499 |\n",
      "|2017       |null          |DEPT OF ED PEDAGOGICAL|ORTIZ    |EVELYN    |null    |null             |MANHATTAN            |TEACHER           |ACTIVE                    |92087.0    |per Annum|0            |100194.32         |0.0     |0.0          |0.0            |481036346846 |\n",
      "|2014       |742           |DEPT OF ED PEDAGOGICAL|ORTIZ    |EVELYN    |null    |null             |null                 |TEACHER           |ACTIVE                    |80695.0    |per Annum|0            |80730.25          |0.0     |0.0          |1000.0         |609885365118 |\n",
      "|2017       |null          |DEPT OF ED PEDAGOGICAL|ORTIZ    |EVELYN    |G       |null             |MANHATTAN            |GUIDANCE COUNSELOR|ACTIVE                    |69843.0    |per Annum|0            |54328.38          |0.0     |0.0          |0.37           |609885368589 |\n",
      "|2015       |null          |DEPT OF ED PEDAGOGICAL|ORTIZ    |EVELYN    |null    |null             |MANHATTAN            |TEACHER           |ACTIVE                    |82900.0    |per Annum|0            |93704.44          |0.0     |0.0          |0.0            |627065234679 |\n",
      "|2018       |742           |DEPT OF ED PEDAGOGICAL|ORTIZ    |EVELYN    |null    |null             |MANHATTAN            |TEACHER           |ACTIVE                    |102009.0   |per Annum|0            |98417.05          |0.0     |0.0          |0.0            |627065244377 |\n",
      "|2016       |null          |DEPT OF ED PEDAGOGICAL|ORTIZ    |EVELYN    |null    |null             |MANHATTAN            |TEACHER           |ACTIVE                    |92906.0    |per Annum|0            |89517.96          |0.0     |0.0          |0.0            |661424967996 |\n",
      "|2014       |742           |DEPT OF ED PEDAGOGICAL|ORTIZ    |EVELYN    |null    |null             |null                 |TEACHER           |ACTIVE                    |78885.0    |per Annum|0            |90246.76          |0.0     |0.0          |1000.0         |704374645821 |\n",
      "|2014       |742           |DEPT OF ED PEDAGOGICAL|ORTIZ    |EVELYN    |null    |null             |null                 |TEACHER           |ACTIVE                    |80987.0    |per Annum|0            |80707.3           |0.0     |0.0          |1000.0         |712964580033 |\n",
      "|2020       |742           |DEPT OF ED PEDAGOGICAL|ORTIZ    |EVELYN    |null    |null             |MANHATTAN            |TEACHER           |ACTIVE                    |106652.0   |per Annum|0            |104375.31         |0.0     |0.0          |12454.03       |790273982920 |\n",
      "|2020       |742           |DEPT OF ED PEDAGOGICAL|ORTIZ    |EVELYN    |null    |null             |MANHATTAN            |TEACHER           |ACTIVE                    |108106.0   |per Annum|0            |105798.6          |0.0     |0.0          |12143.85       |936302871026 |\n",
      "|2019       |742           |DEPT OF ED PEDAGOGICAL|ORTIZ    |EVELYN    |null    |null             |MANHATTAN            |TEACHER           |ACTIVE                    |104050.0   |per Annum|0            |128344.27         |0.0     |0.0          |0.0            |1030792166216|\n",
      "|2019       |742           |DEPT OF ED PEDAGOGICAL|ORTIZ    |EVELYN    |null    |null             |MANHATTAN            |TEACHER           |ACTIVE                    |105469.0   |per Annum|0            |115486.59         |0.0     |0.0          |0.0            |1047972035267|\n",
      "|2018       |742           |DEPT OF ED PEDAGOGICAL|ORTIZ    |EVELYN    |null    |null             |MANHATTAN            |TEACHER           |ACTIVE                    |102009.0   |per Annum|0            |109543.92         |0.0     |0.0          |0.0            |1314260007238|\n",
      "|2018       |742           |DEPT OF ED PEDAGOGICAL|ORTIZ    |EVELYN    |null    |null             |MANHATTAN            |TEACHER           |ACTIVE                    |112434.0   |per Annum|0            |107587.47         |0.0     |0.0          |0.0            |1322849941853|\n",
      "|2017       |null          |DEPT OF ED PEDAGOGICAL|ORTIZ    |EVELYN    |null    |null             |MANHATTAN            |TEACHER           |ACTIVE                    |107061.0   |per Annum|0            |102454.47         |0.0     |0.0          |0.0            |1348619740548|\n",
      "|2018       |742           |DEPT OF ED PEDAGOGICAL|ORTIZ    |EVELYN    |G       |null             |MANHATTAN            |GUIDANCE COUNSELOR|ACTIVE                    |80843.0    |per Annum|0            |73418.33          |0.0     |0.0          |0.0            |1494648637163|\n",
      "|2020       |742           |DEPT OF ED PEDAGOGICAL|ORTIZ    |EVELYN    |G       |null             |MANHATTAN            |GUIDANCE COUNSELOR|CEASED                    |90210.0    |per Annum|0            |15035.0           |0.0     |0.0          |0.0            |1520418423783|\n",
      "|2017       |null          |DEPT OF ED PEDAGOGICAL|ORTIZ    |EVELYN    |null    |null             |MANHATTAN            |TEACHER           |ACTIVE                    |97133.0    |per Annum|0            |93687.2           |0.0     |0.0          |0.0            |1529008371448|\n",
      "|2015       |null          |DEPT OF ED PEDAGOGICAL|ORTIZ    |EVELYN    |null    |null             |MANHATTAN            |TEACHER           |ACTIVE                    |85110.0    |per Annum|0            |84108.93          |0.0     |0.0          |0.0            |1546188235677|\n",
      "|2019       |742           |DEPT OF ED PEDAGOGICAL|ORTIZ    |EVELYN    |null    |null             |MANHATTAN            |TEACHER           |ACTIVE                    |114683.0   |per Annum|0            |124998.47         |0.0     |0.0          |0.0            |1554778176306|\n",
      "|2019       |742           |DEPT OF ED PEDAGOGICAL|ORTIZ    |EVELYN    |G       |null             |MANHATTAN            |GUIDANCE COUNSELOR|ACTIVE                    |90210.0    |per Annum|0            |86660.85          |0.0     |0.0          |0.0            |1571958049091|\n",
      "|2015       |null          |DEPT OF ED PEDAGOGICAL|ORTIZ    |EVELYN    |null    |null             |MANHATTAN            |TEACHER           |ACTIVE                    |93854.0    |per Annum|0            |91503.07          |0.0     |0.0          |0.0            |1666447320077|\n",
      "+-----------+--------------+----------------------+---------+----------+--------+-----------------+---------------------+------------------+--------------------------+-----------+---------+-------------+------------------+--------+-------------+---------------+-------------+\n",
      "\n"
     ]
    }
   ],
   "source": [
    "tab14 = spark.sql(\"\"\"SELECT * FROM nycpayroll WHERE `Agency Name` LIKE 'DEPT OF ED PEDAGOGICAL' AND `First Name` = 'EVELYN' \n",
    "                    AND `Last Name` = 'ORTIZ'\"\"\")\n",
    "\n",
    "tab14.show(30, truncate=False)"
   ]
  },
  {
   "cell_type": "code",
   "execution_count": null,
   "id": "downtown-soccer",
   "metadata": {},
   "outputs": [],
   "source": []
  }
 ],
 "metadata": {
  "kernelspec": {
   "display_name": "Python 3",
   "language": "python",
   "name": "python3"
  },
  "language_info": {
   "codemirror_mode": {
    "name": "ipython",
    "version": 3
   },
   "file_extension": ".py",
   "mimetype": "text/x-python",
   "name": "python",
   "nbconvert_exporter": "python",
   "pygments_lexer": "ipython3",
   "version": "3.8.8"
  }
 },
 "nbformat": 4,
 "nbformat_minor": 5
}
